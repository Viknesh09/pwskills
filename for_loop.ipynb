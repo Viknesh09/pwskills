{
 "cells": [
  {
   "cell_type": "markdown",
   "id": "efb70437",
   "metadata": {},
   "source": [
    "Basic Level\n"
   ]
  },
  {
   "cell_type": "code",
   "execution_count": 4,
   "id": "a9aa0fe5",
   "metadata": {},
   "outputs": [
    {
     "name": "stdout",
     "output_type": "stream",
     "text": [
      "1\n",
      "2\n",
      "3\n",
      "4\n",
      "5\n",
      "6\n",
      "7\n",
      "8\n",
      "9\n",
      "10\n"
     ]
    }
   ],
   "source": [
    "#1. Write a Python program to print the numbers from 1 to 10 using a `for` loop.\n",
    "for i in range(1, 11):\n",
    "    print(i)\n"
   ]
  },
  {
   "cell_type": "code",
   "execution_count": 5,
   "id": "27f971c5",
   "metadata": {},
   "outputs": [
    {
     "name": "stdout",
     "output_type": "stream",
     "text": [
      "The sum of all numbers in the list is: 150\n"
     ]
    }
   ],
   "source": [
    "#2. Create a program that calculates the sum of all numbers in a list using a `for` loop.\n",
    "# Define the list of numbers\n",
    "numbers = [10, 20, 30, 40, 50]\n",
    "\n",
    "# Initialize a variable to store the sum\n",
    "total_sum = 0\n",
    "\n",
    "# Iterate through the list and add each number to the total_sum\n",
    "for number in numbers:\n",
    "    total_sum += number\n",
    "\n",
    "# Print the total sum\n",
    "print(\"The sum of all numbers in the list is:\", total_sum)\n"
   ]
  },
  {
   "cell_type": "code",
   "execution_count": 8,
   "id": "75e4ab40",
   "metadata": {},
   "outputs": [
    {
     "name": "stdout",
     "output_type": "stream",
     "text": [
      "!hsirK ,olleH"
     ]
    }
   ],
   "source": [
    "#3. Write a program to print the characters of a string in reverse order using a `for` loop.\n",
    "# Define the string\n",
    "my_string = \"Hello, Krish!\"\n",
    "\n",
    "# Iterate through the string in reverse order using a for loop\n",
    "for char in reversed(my_string):\n",
    "    print(char, end=\"\")  # end=\"\" is used to print the characters on the same line\n",
    "\n",
    "# Alternatively, you can also use:\n",
    "# for i in range(len(my_string) - 1, -1, -1):\n",
    "#     print(my_string[i], end=\"\")\n"
   ]
  },
  {
   "cell_type": "code",
   "execution_count": 10,
   "id": "78dcedfe",
   "metadata": {},
   "outputs": [
    {
     "name": "stdout",
     "output_type": "stream",
     "text": [
      "Enter a number: 3\n",
      "The factorial of 3 is: 6\n"
     ]
    }
   ],
   "source": [
    "#4. Develop a program that finds the factorial of a given number using a `for` loop.\n",
    "# Input: The number to find the factorial of\n",
    "number = int(input(\"Enter a number: \"))\n",
    "\n",
    "# Initialize a variable to store the factorial result\n",
    "factorial = 1\n",
    "\n",
    "# Calculate the factorial using a for loop\n",
    "for i in range(1, number + 1):\n",
    "    factorial *= i\n",
    "\n",
    "# Print the result\n",
    "print(f\"The factorial of {number} is: {factorial}\")\n"
   ]
  },
  {
   "cell_type": "code",
   "execution_count": 12,
   "id": "b6dc95c9",
   "metadata": {},
   "outputs": [
    {
     "name": "stdout",
     "output_type": "stream",
     "text": [
      "Enter a number: 10\n",
      "10 x 1 = 10\n",
      "10 x 2 = 20\n",
      "10 x 3 = 30\n",
      "10 x 4 = 40\n",
      "10 x 5 = 50\n",
      "10 x 6 = 60\n",
      "10 x 7 = 70\n",
      "10 x 8 = 80\n",
      "10 x 9 = 90\n",
      "10 x 10 = 100\n"
     ]
    }
   ],
   "source": [
    "#5. Create a program to print the multiplication table of a given number using a `for` loop.\n",
    "# Input: The number to print the multiplication table of\n",
    "number = int(input(\"Enter a number: \"))\n",
    "\n",
    "# Iterate through numbers 1 to 10 to print the multiplication table\n",
    "for i in range(1, 11):\n",
    "    result = number * i\n",
    "    print(f\"{number} x {i} = {result}\")\n"
   ]
  },
  {
   "cell_type": "code",
   "execution_count": 13,
   "id": "b48887f6",
   "metadata": {},
   "outputs": [
    {
     "name": "stdout",
     "output_type": "stream",
     "text": [
      "Even numbers count: 5\n",
      "Odd numbers count: 5\n"
     ]
    }
   ],
   "source": [
    "#6. Write a program that counts the number of even and odd numbers in a list using a `for` loop.\n",
    "# Define the list of numbers\n",
    "numbers = [10, 21, 32, 43, 54, 65, 76, 87, 98, 109]\n",
    "\n",
    "# Initialize counters for even and odd numbers\n",
    "even_count = 0\n",
    "odd_count = 0\n",
    "\n",
    "# Iterate through the list and count even and odd numbers\n",
    "for number in numbers:\n",
    "    if number % 2 == 0:\n",
    "        even_count += 1\n",
    "    else:\n",
    "        odd_count += 1\n",
    "\n",
    "# Print the result\n",
    "print(f\"Even numbers count: {even_count}\")\n",
    "print(f\"Odd numbers count: {odd_count}\")\n"
   ]
  },
  {
   "cell_type": "code",
   "execution_count": 15,
   "id": "1af27998",
   "metadata": {},
   "outputs": [
    {
     "name": "stdout",
     "output_type": "stream",
     "text": [
      "The square of 1 is 1\n",
      "The square of 2 is 4\n",
      "The square of 3 is 9\n",
      "The square of 4 is 16\n",
      "The square of 5 is 25\n",
      "The square of 6 is 36\n",
      "The square of 7 is 49\n"
     ]
    }
   ],
   "source": [
    "#7. Develop a program that prints the squares of numbers from 1 to 5 using a `for` loop.\n",
    "# Iterate through numbers 1 to 5\n",
    "for i in range(1, 8):\n",
    "    # Calculate the square of the current number\n",
    "    square = i * i\n",
    "    # Print the square\n",
    "    print(f\"The square of {i} is {square}\")\n"
   ]
  },
  {
   "cell_type": "code",
   "execution_count": 16,
   "id": "274743b5",
   "metadata": {},
   "outputs": [
    {
     "name": "stdout",
     "output_type": "stream",
     "text": [
      "Enter a string: vicky\n",
      "The length of the string is: 5\n"
     ]
    }
   ],
   "source": [
    "#8. Create a program to find the length of a string without using the `len()` function.\n",
    "# Input: The string to find the length of\n",
    "my_string = input(\"Enter a string: \")\n",
    "\n",
    "# Initialize a counter\n",
    "length = 0\n",
    "\n",
    "# Use a for loop to count each character in the string\n",
    "for char in my_string:\n",
    "    length += 1\n",
    "\n",
    "# Print the length of the string\n",
    "print(f\"The length of the string is: {length}\")\n"
   ]
  },
  {
   "cell_type": "code",
   "execution_count": 17,
   "id": "ebf64c53",
   "metadata": {},
   "outputs": [
    {
     "name": "stdout",
     "output_type": "stream",
     "text": [
      "The average of the numbers is: 30.0\n"
     ]
    }
   ],
   "source": [
    "#9. Write a program that calculates the average of a list of numbers using a `for` loop.\n",
    "# Define the list of numbers\n",
    "numbers = [10, 20, 30, 40, 50]\n",
    "\n",
    "# Initialize a variable to store the sum\n",
    "total_sum = 0\n",
    "\n",
    "# Calculate the sum of all numbers in the list using a for loop\n",
    "for number in numbers:\n",
    "    total_sum += number\n",
    "\n",
    "# Calculate the average\n",
    "average = total_sum / len(numbers)\n",
    "\n",
    "# Print the average\n",
    "print(f\"The average of the numbers is: {average}\")\n"
   ]
  },
  {
   "cell_type": "code",
   "execution_count": 19,
   "id": "980fc932",
   "metadata": {},
   "outputs": [
    {
     "name": "stdout",
     "output_type": "stream",
     "text": [
      "Enter the value of n: 8\n",
      "The first 8 Fibonacci numbers are:\n",
      "0 1 1 2 3 5 8 13 "
     ]
    }
   ],
   "source": [
    "#10. Develop a program that prints the first `n` Fibonacci numbers using a `for` loop.\n",
    "# Input: The number of Fibonacci numbers to print\n",
    "n = int(input(\"Enter the value of n: \"))\n",
    "\n",
    "# Initialize the first two Fibonacci numbers\n",
    "a, b = 0, 1\n",
    "\n",
    "# Check if n is valid\n",
    "if n <= 0:\n",
    "    print(\"Please enter a positive integer.\")\n",
    "else:\n",
    "    print(\"The first\", n, \"Fibonacci numbers are:\")\n",
    "    # Iterate through the first n Fibonacci numbers\n",
    "    for i in range(n):\n",
    "        print(a, end=\" \")  # Print the current Fibonacci number\n",
    "        # Update the values of a and b\n",
    "        a, b = b, a + b\n"
   ]
  },
  {
   "cell_type": "markdown",
   "id": "cf6c37f0",
   "metadata": {},
   "source": [
    "Intermediate Level"
   ]
  },
  {
   "cell_type": "code",
   "execution_count": 20,
   "id": "fe8c25b7",
   "metadata": {},
   "outputs": [
    {
     "name": "stdout",
     "output_type": "stream",
     "text": [
      "The list contains duplicates.\n"
     ]
    }
   ],
   "source": [
    "#11. Write a program to check if a given list contains any duplicates using a `for` loop.\n",
    "# Define the list\n",
    "numbers = [1, 2, 3, 4, 5, 1]  # Example list with duplicates\n",
    "\n",
    "# Initialize an empty list to store unique items\n",
    "unique_items = []\n",
    "\n",
    "# Flag variable to check for duplicates\n",
    "has_duplicates = False\n",
    "\n",
    "# Iterate through the list to check for duplicates\n",
    "for number in numbers:\n",
    "    if number in unique_items:\n",
    "        has_duplicates = True\n",
    "        break  # Exit the loop if a duplicate is found\n",
    "    unique_items.append(number)\n",
    "\n",
    "# Print the result\n",
    "if has_duplicates:\n",
    "    print(\"The list contains duplicates.\")\n",
    "else:\n",
    "    print(\"The list does not contain any duplicates.\")\n"
   ]
  },
  {
   "cell_type": "code",
   "execution_count": 21,
   "id": "2b914c38",
   "metadata": {},
   "outputs": [
    {
     "name": "stdout",
     "output_type": "stream",
     "text": [
      "Enter the start of the range: 2\n",
      "Enter the end of the range: 9\n",
      "Prime numbers between 2 and 9 are:\n",
      "2 3 5 7 "
     ]
    }
   ],
   "source": [
    "#12. Create a program that prints the prime numbers in a given range using a `for` loop.\n",
    "# Function to check if a number is prime\n",
    "def is_prime(num):\n",
    "    if num < 2:\n",
    "        return False\n",
    "    for i in range(2, int(num ** 0.5) + 1):\n",
    "        if num % i == 0:\n",
    "            return False\n",
    "    return True\n",
    "\n",
    "# Input: Range for finding prime numbers\n",
    "start = int(input(\"Enter the start of the range: \"))\n",
    "end = int(input(\"Enter the end of the range: \"))\n",
    "\n",
    "# Print prime numbers in the given range\n",
    "print(f\"Prime numbers between {start} and {end} are:\")\n",
    "for number in range(start, end + 1):\n",
    "    if is_prime(number):\n",
    "        print(number, end=\" \")\n"
   ]
  },
  {
   "cell_type": "code",
   "execution_count": 22,
   "id": "860bb3b9",
   "metadata": {},
   "outputs": [
    {
     "name": "stdout",
     "output_type": "stream",
     "text": [
      "Enter a string: lenovo\n",
      "The number of vowels in the string is: 3\n"
     ]
    }
   ],
   "source": [
    "#13. Develop a program that counts the number of vowels in a string using a `for` loop.\n",
    "# Input: The string to count vowels in\n",
    "my_string = input(\"Enter a string: \")\n",
    "\n",
    "# Initialize a counter for vowels\n",
    "vowel_count = 0\n",
    "\n",
    "# Define a set of vowels\n",
    "vowels = \"aeiouAEIOU\"\n",
    "\n",
    "# Iterate through each character in the string\n",
    "for char in my_string:\n",
    "    if char in vowels:\n",
    "        vowel_count += 1  # Increment the counter if the character is a vowel\n",
    "\n",
    "# Print the result\n",
    "print(f\"The number of vowels in the string is: {vowel_count}\")\n"
   ]
  },
  {
   "cell_type": "code",
   "execution_count": 23,
   "id": "8b37aba9",
   "metadata": {},
   "outputs": [
    {
     "name": "stdout",
     "output_type": "stream",
     "text": [
      "The maximum element in the 2D list is: 9\n"
     ]
    }
   ],
   "source": [
    "#14. Write a program to find the maximum element in a 2D list using a nested `for` loop.\n",
    "# Define a 2D list (list of lists)\n",
    "matrix = [\n",
    "    [3, 5, 1],\n",
    "    [8, 2, 7],\n",
    "    [4, 6, 9]\n",
    "]\n",
    "\n",
    "# Initialize a variable to store the maximum element\n",
    "max_element = matrix[0][0]  # Start with the first element\n",
    "\n",
    "# Iterate through each row in the 2D list\n",
    "for row in matrix:\n",
    "    # Iterate through each element in the row\n",
    "    for element in row:\n",
    "        if element > max_element:\n",
    "            max_element = element  # Update max_element if a larger element is found\n",
    "\n",
    "# Print the maximum element\n",
    "print(f\"The maximum element in the 2D list is: {max_element}\")\n"
   ]
  },
  {
   "cell_type": "code",
   "execution_count": 26,
   "id": "0c9142e0",
   "metadata": {},
   "outputs": [
    {
     "name": "stdout",
     "output_type": "stream",
     "text": [
      "Original list: [1, 2, 3, 4, 3, 5, 3, 6]\n",
      "List after removing all occurrences of 3 : [1, 2, 4, 5, 6]\n"
     ]
    }
   ],
   "source": [
    "#15. Create a program that removes all occurrences of a specific element from a list using a `for` loop.\n",
    "# Define the original list\n",
    "original_list = [1, 2, 3, 4, 3, 5, 3, 6]\n",
    "\n",
    "# Element to be removed\n",
    "element_to_remove = 3\n",
    "\n",
    "# Initialize an empty list to store the result\n",
    "result_list = []\n",
    "\n",
    "# Iterate through the original list\n",
    "for element in original_list:\n",
    "    if element != element_to_remove:\n",
    "        result_list.append(element)  # Add elements that are not equal to element_to_remove\n",
    "\n",
    "# Print the result\n",
    "print(\"Original list:\", original_list)\n",
    "print(\"List after removing all occurrences of\", element_to_remove, \":\", result_list)\n"
   ]
  },
  {
   "cell_type": "code",
   "execution_count": 29,
   "id": "b6d1f911",
   "metadata": {},
   "outputs": [
    {
     "name": "stdout",
     "output_type": "stream",
     "text": [
      "Multiplication table for 1:\n",
      "1 x 1 = 1\n",
      "1 x 2 = 2\n",
      "1 x 3 = 3\n",
      "1 x 4 = 4\n",
      "1 x 5 = 5\n",
      "\n",
      "Multiplication table for 2:\n",
      "2 x 1 = 2\n",
      "2 x 2 = 4\n",
      "2 x 3 = 6\n",
      "2 x 4 = 8\n",
      "2 x 5 = 10\n",
      "\n",
      "Multiplication table for 3:\n",
      "3 x 1 = 3\n",
      "3 x 2 = 6\n",
      "3 x 3 = 9\n",
      "3 x 4 = 12\n",
      "3 x 5 = 15\n",
      "\n",
      "Multiplication table for 4:\n",
      "4 x 1 = 4\n",
      "4 x 2 = 8\n",
      "4 x 3 = 12\n",
      "4 x 4 = 16\n",
      "4 x 5 = 20\n",
      "\n",
      "Multiplication table for 5:\n",
      "5 x 1 = 5\n",
      "5 x 2 = 10\n",
      "5 x 3 = 15\n",
      "5 x 4 = 20\n",
      "5 x 5 = 25\n",
      "\n"
     ]
    }
   ],
   "source": [
    "#16. Develop a program that generates a multiplication table for numbers from 1 to 5 using a nested `for` loop.\n",
    "# Generate a multiplication table for numbers from 1 to 5\n",
    "for i in range(1, 6):  # Outer loop for the first number\n",
    "    print(f\"Multiplication table for {i}:\")\n",
    "    for j in range(1, 6):  # Inner loop for the second number\n",
    "        result = i * j\n",
    "        print(f\"{i} x {j} = {result}\")\n",
    "    print()  # Print a newline for better readability\n"
   ]
  },
  {
   "cell_type": "code",
   "execution_count": 30,
   "id": "194d1b3b",
   "metadata": {},
   "outputs": [
    {
     "name": "stdout",
     "output_type": "stream",
     "text": [
      "Fahrenheit Temperatures: [32, 68, 100, 212, 50]\n",
      "Celsius Temperatures: [0.0, 20.0, 37.77777777777778, 100.0, 10.0]\n"
     ]
    }
   ],
   "source": [
    "#17. Write a program that converts a list of Fahrenheit temperatures to Celsius using a `for` loop.\n",
    "# Define a list of Fahrenheit temperatures\n",
    "fahrenheit_temperatures = [32, 68, 100, 212, 50]\n",
    "\n",
    "# Initialize an empty list to store the Celsius temperatures\n",
    "celsius_temperatures = []\n",
    "\n",
    "# Convert each Fahrenheit temperature to Celsius\n",
    "for fahrenheit in fahrenheit_temperatures:\n",
    "    celsius = (fahrenheit - 32) * 5 / 9  # Formula for conversion\n",
    "    celsius_temperatures.append(celsius)  # Add the converted temperature to the list\n",
    "\n",
    "# Print the results\n",
    "print(\"Fahrenheit Temperatures:\", fahrenheit_temperatures)\n",
    "print(\"Celsius Temperatures:\", celsius_temperatures)\n"
   ]
  },
  {
   "cell_type": "code",
   "execution_count": 31,
   "id": "8b6f76e0",
   "metadata": {},
   "outputs": [
    {
     "name": "stdout",
     "output_type": "stream",
     "text": [
      "Common elements from both lists: [4, 5]\n"
     ]
    }
   ],
   "source": [
    "#18. Create a program to print the common elements from two lists using a `for` loop.\n",
    "# Define the two lists\n",
    "list1 = [1, 2, 3, 4, 5]\n",
    "list2 = [4, 5, 6, 7, 8]\n",
    "\n",
    "# Initialize an empty list to store common elements\n",
    "common_elements = []\n",
    "\n",
    "# Iterate through the first list\n",
    "for element in list1:\n",
    "    if element in list2:\n",
    "        common_elements.append(element)  # Add to common_elements if found in list2\n",
    "\n",
    "# Print the common elements\n",
    "print(\"Common elements from both lists:\", common_elements)\n"
   ]
  },
  {
   "cell_type": "code",
   "execution_count": 35,
   "id": "0b72ff08",
   "metadata": {},
   "outputs": [
    {
     "name": "stdout",
     "output_type": "stream",
     "text": [
      "Enter the number of rows for the triangle: 5\n",
      "* \n",
      "* * \n",
      "* * * \n",
      "* * * * \n",
      "* * * * * \n"
     ]
    }
   ],
   "source": [
    "#19. Develop a program that prints the pattern of right-angled triangles using a `for` loop. Use ‘*’ to draw the\n",
    "#pattern\n",
    "# Input: Number of rows for the triangle\n",
    "num_rows = int(input(\"Enter the number of rows for the triangle: \"))\n",
    "\n",
    "# Iterate through the number of rows\n",
    "for i in range(1, num_rows + 1):\n",
    "    # Print '*' for the current row\n",
    "    for j in range(i):\n",
    "        print('*', end=' ')\n",
    "    # Move to the next line after printing each row\n",
    "    print()\n"
   ]
  },
  {
   "cell_type": "code",
   "execution_count": 36,
   "id": "4e4d5483",
   "metadata": {},
   "outputs": [
    {
     "name": "stdout",
     "output_type": "stream",
     "text": [
      "Enter the first number: 2\n",
      "Enter the second number: 6\n",
      "The greatest common divisor (GCD) of 2 and 6 is: 2\n"
     ]
    }
   ],
   "source": [
    "#20. Write a program to find the greatest common divisor (GCD) of two numbers using a `for` loop.\n",
    "# Input: Two numbers\n",
    "num1 = int(input(\"Enter the first number: \"))\n",
    "num2 = int(input(\"Enter the second number: \"))\n",
    "\n",
    "# Initialize the GCD variable\n",
    "gcd = 1\n",
    "\n",
    "# Determine the smaller of the two numbers\n",
    "min_num = min(num1, num2)\n",
    "\n",
    "# Find the GCD using a for loop\n",
    "for i in range(1, min_num + 1):\n",
    "    if num1 % i == 0 and num2 % i == 0:\n",
    "        gcd = i  # Update gcd if i is a common divisor\n",
    "\n",
    "# Print the result\n",
    "print(f\"The greatest common divisor (GCD) of {num1} and {num2} is: {gcd}\")\n"
   ]
  },
  {
   "cell_type": "markdown",
   "id": "d33b943e",
   "metadata": {},
   "source": [
    "Advanced Level"
   ]
  },
  {
   "cell_type": "code",
   "execution_count": 37,
   "id": "139927e9",
   "metadata": {},
   "outputs": [
    {
     "name": "stdout",
     "output_type": "stream",
     "text": [
      "The sum of the digits of 123 is: 6\n",
      "The sum of the digits of 456 is: 15\n",
      "The sum of the digits of 789 is: 24\n"
     ]
    }
   ],
   "source": [
    "#21. Create a program that calculates the sum of the digits of numbers in a list using a list comprehension.\n",
    "# Define a list of numbers\n",
    "numbers = [123, 456, 789]\n",
    "\n",
    "# Calculate the sum of the digits of each number in the list\n",
    "digit_sums = [sum(int(digit) for digit in str(number)) for number in numbers]\n",
    "\n",
    "# Print the result\n",
    "for number, digit_sum in zip(numbers, digit_sums):\n",
    "    print(f\"The sum of the digits of {number} is: {digit_sum}\")\n"
   ]
  },
  {
   "cell_type": "code",
   "execution_count": 41,
   "id": "5b8bc198",
   "metadata": {},
   "outputs": [
    {
     "name": "stdout",
     "output_type": "stream",
     "text": [
      "Enter a number to find its prime factors: 46\n",
      "The prime factors of 46 are: [2, 23]\n"
     ]
    }
   ],
   "source": [
    "#22. Write a program to find the prime factors of a given number using a `for` loop and list comprehension.\n",
    "# Function to find prime factors\n",
    "def prime_factors(n):\n",
    "    factors = []\n",
    "    \n",
    "    # Check for the number of 2s that divide n\n",
    "    while n % 2 == 0:\n",
    "        factors.append(2)\n",
    "        n //= 2\n",
    "        \n",
    "    # Check for odd factors from 3 to sqrt(n)\n",
    "    for i in range(3, int(n**0.5) + 1, 2):\n",
    "        while n % i == 0:\n",
    "            factors.append(i)\n",
    "            n //= i\n",
    "            \n",
    "    # If n becomes a prime number greater than 2\n",
    "    if n > 2:\n",
    "        factors.append(n)\n",
    "    \n",
    "    return factors\n",
    "\n",
    "# Input: A number to find its prime factors\n",
    "number = int(input(\"Enter a number to find its prime factors: \"))\n",
    "\n",
    "# Get the prime factors using the function\n",
    "prime_factors_list = prime_factors(number)\n",
    "\n",
    "# Print the result\n",
    "print(f\"The prime factors of {number} are: {prime_factors_list}\")\n"
   ]
  },
  {
   "cell_type": "code",
   "execution_count": 42,
   "id": "88062ddc",
   "metadata": {},
   "outputs": [
    {
     "name": "stdout",
     "output_type": "stream",
     "text": [
      "Original list: [1, 2, 3, 4, 2, 5, 1, 3, 6, 7, 5]\n",
      "Unique elements: [1, 2, 3, 4, 5, 6, 7]\n"
     ]
    }
   ],
   "source": [
    "#23. Develop a program that extracts unique elements from a list and stores them in a new list using a list comprehension.\n",
    "# Define the original list with duplicate elements\n",
    "original_list = [1, 2, 3, 4, 2, 5, 1, 3, 6, 7, 5]\n",
    "\n",
    "# Use list comprehension to extract unique elements\n",
    "unique_elements = []\n",
    "[unique_elements.append(x) for x in original_list if x not in unique_elements]\n",
    "\n",
    "# Print the result\n",
    "print(\"Original list:\", original_list)\n",
    "print(\"Unique elements:\", unique_elements)\n"
   ]
  },
  {
   "cell_type": "code",
   "execution_count": 45,
   "id": "5a9da5e5",
   "metadata": {},
   "outputs": [
    {
     "name": "stdout",
     "output_type": "stream",
     "text": [
      "[0, 1, 2, 3, 4, 5, 6, 7, 8, 9, 11, 22, 33, 44, 55, 66, 77, 88, 99]\n"
     ]
    }
   ],
   "source": [
    "#24. Create a program that generates a list of all palindromic numbers up to a specified limit using a list comprehension.\n",
    "def is_palindrome(n):\n",
    "    return str(n) == str(n)[::-1]\n",
    "\n",
    "def generate_palindromic_numbers(limit):\n",
    "    return [n for n in range(limit + 1) if is_palindrome(n)]\n",
    "\n",
    "# Specify the limit\n",
    "limit = 100  # Change this to any limit you want\n",
    "palindromic_numbers = generate_palindromic_numbers(limit)\n",
    "print(palindromic_numbers)\n"
   ]
  },
  {
   "cell_type": "code",
   "execution_count": 46,
   "id": "6d7045f8",
   "metadata": {},
   "outputs": [
    {
     "name": "stdout",
     "output_type": "stream",
     "text": [
      "[1, 2, 3, 4, 5, 6, 7, 8, 9]\n"
     ]
    }
   ],
   "source": [
    "#25. Write a program to flatten a nested list using list comprehension.\n",
    "def flatten(nested_list):\n",
    "    return [item for sublist in nested_list for item in sublist]\n",
    "\n",
    "# Example nested list\n",
    "nested_list = [[1, 2, 3], [4, 5], [6, 7, 8, 9]]\n",
    "\n",
    "# Flattening the nested list\n",
    "flattened_list = flatten(nested_list)\n",
    "print(flattened_list)\n"
   ]
  },
  {
   "cell_type": "markdown",
   "id": "2a34aa07",
   "metadata": {},
   "source": [
    "Challenge Level"
   ]
  },
  {
   "cell_type": "code",
   "execution_count": 48,
   "id": "444853f8",
   "metadata": {},
   "outputs": [
    {
     "name": "stdout",
     "output_type": "stream",
     "text": [
      "[2, 3, 5, 7, 11, 13, 17, 19, 23, 29, 31, 37, 41, 43, 47, 53, 59, 61, 67, 71, 73, 79, 83, 89, 97]\n"
     ]
    }
   ],
   "source": [
    "#31. Write a program to generate a list of prime numbers using the Sieve of Eratosthenes algorithm and list comprehension.\n",
    "def sieve_of_eratosthenes(limit):\n",
    "    # Create a boolean list \"is_prime\" where True indicates that the index is a prime number\n",
    "    is_prime = [True] * (limit + 1)\n",
    "    is_prime[0] = is_prime[1] = False  # 0 and 1 are not prime numbers\n",
    "\n",
    "    for p in range(2, int(limit**0.5) + 1):\n",
    "        if is_prime[p]:\n",
    "            # Mark all multiples of p as False (not prime)\n",
    "            for i in range(p * p, limit + 1, p):\n",
    "                is_prime[i] = False\n",
    "\n",
    "    # Generate the list of prime numbers using list comprehension\n",
    "    prime_numbers = [num for num in range(limit + 1) if is_prime[num]]\n",
    "    return prime_numbers\n",
    "\n",
    "# Specify the limit\n",
    "limit = 100  # Change this to any limit you want\n",
    "prime_numbers = sieve_of_eratosthenes(limit)\n",
    "print(prime_numbers)\n"
   ]
  },
  {
   "cell_type": "code",
   "execution_count": 49,
   "id": "c85ca36a",
   "metadata": {},
   "outputs": [
    {
     "name": "stdout",
     "output_type": "stream",
     "text": [
      "[(3, 4, 5), (5, 12, 13), (6, 8, 10), (8, 15, 17), (9, 12, 15), (12, 16, 20)]\n"
     ]
    }
   ],
   "source": [
    "#32. Create a program that generates a list of all Pythagorean triplets up to a specified limit using list comprehension.\n",
    "def pythagorean_triplets(limit):\n",
    "    return [(a, b, c) for a in range(1, limit + 1) \n",
    "            for b in range(a, limit + 1) \n",
    "            for c in range(b, limit + 1) \n",
    "            if a**2 + b**2 == c**2]\n",
    "\n",
    "# Specify the limit\n",
    "limit = 20  # Change this to any limit you want\n",
    "triplets = pythagorean_triplets(limit)\n",
    "print(triplets)\n"
   ]
  },
  {
   "cell_type": "code",
   "execution_count": 50,
   "id": "694fdaf0",
   "metadata": {},
   "outputs": [
    {
     "name": "stdout",
     "output_type": "stream",
     "text": [
      "[(1, 'a'), (1, 'b'), (1, 'c'), (2, 'a'), (2, 'b'), (2, 'c'), (3, 'a'), (3, 'b'), (3, 'c')]\n"
     ]
    }
   ],
   "source": [
    "#33. Develop a program that generates a list of all possible combinations of two lists using list comprehension.\n",
    "def generate_combinations(list1, list2):\n",
    "    return [(x, y) for x in list1 for y in list2]\n",
    "\n",
    "# Example lists\n",
    "list1 = [1, 2, 3]\n",
    "list2 = ['a', 'b', 'c']\n",
    "\n",
    "# Generating combinations\n",
    "combinations = generate_combinations(list1, list2)\n",
    "print(combinations)\n"
   ]
  },
  {
   "cell_type": "code",
   "execution_count": 51,
   "id": "29273225",
   "metadata": {},
   "outputs": [
    {
     "name": "stdout",
     "output_type": "stream",
     "text": [
      "Mean: 3.6666666666666665\n",
      "Median: 4\n",
      "Mode: 5\n"
     ]
    }
   ],
   "source": [
    "#34. Write a program that calculates the mean, median, and mode of a list of numbers using list comprehension.\n",
    "import statistics\n",
    "\n",
    "def calculate_statistics(numbers):\n",
    "    # Calculate the mean\n",
    "    mean = sum(numbers) / len(numbers) if numbers else 0\n",
    "\n",
    "    # Calculate the median\n",
    "    median = statistics.median(numbers) if numbers else 0\n",
    "\n",
    "    # Calculate the mode\n",
    "    try:\n",
    "        mode = statistics.mode(numbers)\n",
    "    except statistics.StatisticsError:\n",
    "        mode = None  # If there's no unique mode\n",
    "\n",
    "    return mean, median, mode\n",
    "\n",
    "# Example list of numbers\n",
    "numbers = [1, 2, 2, 3, 4, 5, 5, 5, 6]\n",
    "\n",
    "# Calculating statistics\n",
    "mean, median, mode = calculate_statistics(numbers)\n",
    "print(f'Mean: {mean}')\n",
    "print(f'Median: {median}')\n",
    "print(f'Mode: {mode}')\n"
   ]
  },
  {
   "cell_type": "code",
   "execution_count": 52,
   "id": "4a4c9832",
   "metadata": {},
   "outputs": [
    {
     "name": "stdout",
     "output_type": "stream",
     "text": [
      "[1]\n",
      "[1, 1]\n",
      "[1, 2, 1]\n",
      "[1, 3, 3, 1]\n",
      "[1, 4, 6, 4, 1]\n"
     ]
    }
   ],
   "source": [
    "#35. Create a program that generates Pascal's triangle up to a specified number of rows using list comprehension.\n",
    "def generate_pascals_triangle(n):\n",
    "    triangle = [[1 if j == 0 or j == i else 0 for j in range(i + 1)] for i in range(n)]\n",
    "\n",
    "    for i in range(2, n):\n",
    "        for j in range(1, i):\n",
    "            triangle[i][j] = triangle[i - 1][j - 1] + triangle[i - 1][j]\n",
    "\n",
    "    return triangle\n",
    "\n",
    "# Specify the number of rows\n",
    "num_rows = 5  # Change this to any number of rows you want\n",
    "pascals_triangle = generate_pascals_triangle(num_rows)\n",
    "\n",
    "# Print Pascal's Triangle\n",
    "for row in pascals_triangle:\n",
    "    print(row)\n"
   ]
  },
  {
   "cell_type": "code",
   "execution_count": 54,
   "id": "2deb50ce",
   "metadata": {},
   "outputs": [
    {
     "name": "stdout",
     "output_type": "stream",
     "text": [
      "Sum of the digits of 1! is 1\n",
      "Sum of the digits of 2! is 2\n",
      "Sum of the digits of 3! is 6\n",
      "Sum of the digits of 4! is 6\n",
      "Sum of the digits of 5! is 3\n"
     ]
    }
   ],
   "source": [
    "#36. Develop a program that calculates the sum of the digits of a factorial of numbers from 1 to 5 using list comprehension.\n",
    "import math\n",
    "\n",
    "def sum_of_digits(n):\n",
    "    # Calculate the factorial of n\n",
    "    factorial = math.factorial(n)\n",
    "    # Calculate the sum of the digits of the factorial\n",
    "    return sum(int(digit) for digit in str(factorial))\n",
    "\n",
    "# Calculate the sum of digits for factorials from 1 to 5\n",
    "results = {n: sum_of_digits(n) for n in range(1, 6)}\n",
    "\n",
    "# Print the results\n",
    "for n, digit_sum in results.items():\n",
    "    print(f'Sum of the digits of {n}! is {digit_sum}')\n",
    "\n"
   ]
  },
  {
   "cell_type": "code",
   "execution_count": 57,
   "id": "365c81dc",
   "metadata": {},
   "outputs": [
    {
     "name": "stdout",
     "output_type": "stream",
     "text": [
      "The longest word is: faster\n"
     ]
    }
   ],
   "source": [
    "#37. Write a program that finds the longest word in a sentence using list comprehension.\n",
    "def longest_word(sentence):\n",
    "    # Split the sentence into words and find the longest word using list comprehension\n",
    "    words = sentence.split()\n",
    "    longest = max(words, key=len)\n",
    "    return longest\n",
    "\n",
    "# Example sentence\n",
    "sentence = \"The quick brown fox jumps over the lazy dog runs faster\"\n",
    "\n",
    "# Finding the longest word\n",
    "longest = longest_word(sentence)\n",
    "print(f'The longest word is: {longest}')\n"
   ]
  },
  {
   "cell_type": "code",
   "execution_count": 58,
   "id": "d3a63ab9",
   "metadata": {},
   "outputs": [
    {
     "name": "stdout",
     "output_type": "stream",
     "text": [
      "Strings with more than three vowels: ['beautiful', 'extraordinary', 'functionality']\n"
     ]
    }
   ],
   "source": [
    "#38. Create a program that filters a list of strings to include only those with more than three vowels using list comprehension.\n",
    "def has_more_than_three_vowels(word):\n",
    "    # Count the number of vowels in the word\n",
    "    vowels = 'aeiouAEIOU'\n",
    "    return sum(1 for char in word if char in vowels) > 3\n",
    "\n",
    "def filter_strings_with_vowels(strings):\n",
    "    # Use list comprehension to filter strings with more than three vowels\n",
    "    return [s for s in strings if has_more_than_three_vowels(s)]\n",
    "\n",
    "# Example list of strings\n",
    "strings = [\"hello\", \"beautiful\", \"world\", \"extraordinary\", \"Python\", \"programming\", \"functionality\"]\n",
    "\n",
    "# Filtering the strings\n",
    "filtered_strings = filter_strings_with_vowels(strings)\n",
    "\n",
    "# Print the result\n",
    "print(\"Strings with more than three vowels:\", filtered_strings)\n"
   ]
  },
  {
   "cell_type": "code",
   "execution_count": 59,
   "id": "e20fe3af",
   "metadata": {},
   "outputs": [
    {
     "name": "stdout",
     "output_type": "stream",
     "text": [
      "The total sum of the digits from 1 to 1000 is: 13501\n"
     ]
    }
   ],
   "source": [
    "#39. Develop a program that calculates the sum of the digits of numbers from 1 to 1000 using list comprehension.\n",
    "def sum_of_digits(n):\n",
    "    # Calculate the sum of the digits of the number\n",
    "    return sum(int(digit) for digit in str(n))\n",
    "\n",
    "# Calculate the sum of the digits for numbers from 1 to 1000\n",
    "total_sum = sum(sum_of_digits(i) for i in range(1, 1001))\n",
    "\n",
    "# Print the result\n",
    "print(f'The total sum of the digits from 1 to 1000 is: {total_sum}')\n"
   ]
  },
  {
   "cell_type": "code",
   "execution_count": 60,
   "id": "9030c1c2",
   "metadata": {},
   "outputs": [
    {
     "name": "stdout",
     "output_type": "stream",
     "text": [
      "Prime palindromic numbers: [2, 3, 5, 7, 11, 101, 131, 151, 181, 191, 313, 353, 373, 383, 727, 757, 787, 797, 919, 929]\n"
     ]
    }
   ],
   "source": [
    "#40. Write a program that generates a list of prime palindromic numbers using list comprehension.\n",
    "def is_prime(n):\n",
    "    if n <= 1:\n",
    "        return False\n",
    "    for i in range(2, int(n**0.5) + 1):\n",
    "        if n % i == 0:\n",
    "            return False\n",
    "    return True\n",
    "\n",
    "def is_palindrome(n):\n",
    "    return str(n) == str(n)[::-1]\n",
    "\n",
    "# Generate a list of prime palindromic numbers within a specified range\n",
    "limit = 1000  # Change this to set the upper limit\n",
    "prime_palindromic_numbers = [num for num in range(2, limit + 1) if is_prime(num) and is_palindrome(num)]\n",
    "\n",
    "# Print the result\n",
    "print(\"Prime palindromic numbers:\", prime_palindromic_numbers)\n"
   ]
  },
  {
   "cell_type": "code",
   "execution_count": null,
   "id": "62dbf718",
   "metadata": {},
   "outputs": [],
   "source": []
  },
  {
   "cell_type": "code",
   "execution_count": null,
   "id": "3da161ab",
   "metadata": {},
   "outputs": [],
   "source": []
  }
 ],
 "metadata": {
  "kernelspec": {
   "display_name": "Python 3 (ipykernel)",
   "language": "python",
   "name": "python3"
  },
  "language_info": {
   "codemirror_mode": {
    "name": "ipython",
    "version": 3
   },
   "file_extension": ".py",
   "mimetype": "text/x-python",
   "name": "python",
   "nbconvert_exporter": "python",
   "pygments_lexer": "ipython3",
   "version": "3.10.9"
  }
 },
 "nbformat": 4,
 "nbformat_minor": 5
}
