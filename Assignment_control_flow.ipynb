{
 "cells": [
  {
   "cell_type": "markdown",
   "id": "8b11d81a",
   "metadata": {},
   "source": [
    "Basic If-Else Statements:"
   ]
  },
  {
   "cell_type": "code",
   "execution_count": 5,
   "id": "7be6c698",
   "metadata": {},
   "outputs": [
    {
     "name": "stdout",
     "output_type": "stream",
     "text": [
      "Enter a number: -23\n",
      "The number is negative.\n"
     ]
    }
   ],
   "source": [
    "# 1. Write a Python program to check if a given number is positive or negative.\n",
    "def check_number(num):\n",
    "    if num > 0:\n",
    "        return \"The number is positive.\"\n",
    "    elif num < 0:\n",
    "        return \"The number is negative.\"\n",
    "    else:\n",
    "        return \"The number is zero.\"\n",
    "\n",
    "# Input from the user\n",
    "try:\n",
    "    user_input = float(input(\"Enter a number: \"))\n",
    "    result = check_number(user_input)\n",
    "    print(result)\n",
    "except ValueError:\n",
    "    print(\"Please enter a valid number.\")\n"
   ]
  },
  {
   "cell_type": "code",
   "execution_count": 4,
   "id": "bc0cb9b0",
   "metadata": {},
   "outputs": [
    {
     "name": "stdout",
     "output_type": "stream",
     "text": [
      "Enter your age: 16\n",
      "You are not eligible to vote.\n"
     ]
    }
   ],
   "source": [
    "#2. Create a program that determines if a person is eligible to vote based on their age.\n",
    "# Function to check voting eligibility\n",
    "def check_voting_eligibility(age):\n",
    "    if age >= 18:\n",
    "        return \"You are eligible to vote.\"\n",
    "    else:\n",
    "        return \"You are not eligible to vote.\"\n",
    "\n",
    "# Input from the user\n",
    "user_input = input(\"Enter your age: \")\n",
    "\n",
    "# Check if the input is a valid number\n",
    "if user_input.isdigit():\n",
    "    # Convert input to integer\n",
    "    age = int(user_input)\n",
    "    result = check_voting_eligibility(age)\n",
    "    print(result)\n",
    "else:\n",
    "    print(\"Please enter a valid age.\")\n"
   ]
  },
  {
   "cell_type": "code",
   "execution_count": 7,
   "id": "928745da",
   "metadata": {},
   "outputs": [
    {
     "name": "stdout",
     "output_type": "stream",
     "text": [
      "Enter the first number: 12\n",
      "Enter the second number: 38\n",
      "The maximum number is: 38.0\n"
     ]
    }
   ],
   "source": [
    "#3. Develop a program to find the maximum of two numbers using if-else statements.\n",
    "# Function to find the maximum of two numbers\n",
    "def find_maximum(num1, num2):\n",
    "    if num1 > num2:\n",
    "        return f\"The maximum number is: {num1}\"\n",
    "    elif num2 > num1:\n",
    "        return f\"The maximum number is: {num2}\"\n",
    "    else:\n",
    "        return \"Both numbers are equal.\"\n",
    "\n",
    "# Input from the user\n",
    "num1_input = input(\"Enter the first number: \")\n",
    "num2_input = input(\"Enter the second number: \")\n",
    "\n",
    "# Check if the inputs are valid numbers\n",
    "if num1_input.isdigit() and num2_input.isdigit():\n",
    "    # Convert inputs to float\n",
    "    num1 = float(num1_input)\n",
    "    num2 = float(num2_input)\n",
    "    result = find_maximum(num1, num2)\n",
    "    print(result)\n",
    "else:\n",
    "    print(\"Please enter valid numbers.\")\n"
   ]
  },
  {
   "cell_type": "code",
   "execution_count": 11,
   "id": "4153ab68",
   "metadata": {},
   "outputs": [
    {
     "name": "stdout",
     "output_type": "stream",
     "text": [
      "Enter a year: 2020\n",
      "The year is a leap year.\n"
     ]
    }
   ],
   "source": [
    "#4. Write a Python script to classify a given year as a leap year or not.\n",
    "# Function to check if a year is a leap year\n",
    "def is_leap_year(year):\n",
    "    # A year is a leap year if it is divisible by 4\n",
    "    # But not divisible by 100 unless it is also divisible by 400\n",
    "    if (year % 4 == 0 and year % 100 != 0) or (year % 400 == 0):\n",
    "        return \"The year is a leap year.\"\n",
    "    else:\n",
    "        return \"The year is not a leap year.\"\n",
    "\n",
    "# Input from the user\n",
    "year_input = input(\"Enter a year: \")\n",
    "\n",
    "# Check if the input is a valid number\n",
    "if year_input.isdigit():\n",
    "    # Convert input to integer\n",
    "    year = int(year_input)\n",
    "    result = is_leap_year(year)\n",
    "    print(result)\n",
    "else:\n",
    "    print(\"Please enter a valid year.\")\n"
   ]
  },
  {
   "cell_type": "code",
   "execution_count": 15,
   "id": "4f1fdbaf",
   "metadata": {},
   "outputs": [
    {
     "name": "stdout",
     "output_type": "stream",
     "text": [
      "Enter a character: s\n",
      "'s' is a consonant.\n"
     ]
    }
   ],
   "source": [
    "#5. Create a program that checks whether a character is a vowel or a consonant.\n",
    "# Function to check if a character is a vowel or consonant\n",
    "def check_character(character):\n",
    "    vowels = \"aeiouAEIOU\"\n",
    "    if character.isalpha() and len(character) == 1:  # Check if it's a single alphabetic character\n",
    "        if character in vowels:\n",
    "            return f\"'{character}' is a vowel.\"\n",
    "        else:\n",
    "            return f\"'{character}' is a consonant.\"\n",
    "    else:\n",
    "        return \"Please enter a valid single alphabetic character.\"\n",
    "\n",
    "# Input from the user\n",
    "char_input = input(\"Enter a character: \")\n",
    "\n",
    "# Call the function and print the result\n",
    "result = check_character(char_input)\n",
    "print(result)\n"
   ]
  },
  {
   "cell_type": "code",
   "execution_count": 17,
   "id": "20d24e10",
   "metadata": {},
   "outputs": [
    {
     "name": "stdout",
     "output_type": "stream",
     "text": [
      "Enter a number: 3\n",
      "The number is odd.\n"
     ]
    }
   ],
   "source": [
    "#6. Implement a program to determine whether a given number is even or odd.\n",
    "# Function to check if a number is even or odd\n",
    "def check_even_odd(number):\n",
    "    if number % 2 == 0:\n",
    "        return \"The number is even.\"\n",
    "    else:\n",
    "        return \"The number is odd.\"\n",
    "\n",
    "# Input from the user\n",
    "num_input = input(\"Enter a number: \")\n",
    "\n",
    "# Check if the input is a valid number\n",
    "if num_input.isdigit() or (num_input.startswith('-') and num_input[1:].isdigit()):\n",
    "    # Convert input to integer\n",
    "    number = int(num_input)\n",
    "    result = check_even_odd(number)\n",
    "    print(result)\n",
    "else:\n",
    "    print(\"Please enter a valid number.\")\n"
   ]
  },
  {
   "cell_type": "code",
   "execution_count": 18,
   "id": "29a5fbdc",
   "metadata": {},
   "outputs": [
    {
     "name": "stdout",
     "output_type": "stream",
     "text": [
      "Enter a number: 12\n",
      "The absolute value is: 12.0\n"
     ]
    }
   ],
   "source": [
    "#7. Write a Python function to calculate the absolute value of a number without using the `abs()` function.\n",
    "# Function to calculate the absolute value of a number\n",
    "def absolute_value(number):\n",
    "    if number < 0:\n",
    "        return -number\n",
    "    else:\n",
    "        return number\n",
    "\n",
    "# Input from the user\n",
    "num_input = input(\"Enter a number: \")\n",
    "\n",
    "# Check if the input is a valid number\n",
    "if num_input.isdigit() or (num_input.startswith('-') and num_input[1:].isdigit()):\n",
    "    # Convert input to float\n",
    "    number = float(num_input)\n",
    "    result = absolute_value(number)\n",
    "    print(f\"The absolute value is: {result}\")\n",
    "else:\n",
    "    print(\"Please enter a valid number.\")\n"
   ]
  },
  {
   "cell_type": "code",
   "execution_count": 19,
   "id": "6bf83802",
   "metadata": {},
   "outputs": [
    {
     "name": "stdout",
     "output_type": "stream",
     "text": [
      "Enter the first number: 12\n",
      "Enter the second number: 23\n",
      "Enter the third number: 2\n",
      "The largest number is: 23.0\n"
     ]
    }
   ],
   "source": [
    "#8. Develop a program that determines the largest of three given numbers using if-else statements.\n",
    "# Function to find the largest of three numbers\n",
    "def find_largest(num1, num2, num3):\n",
    "    if num1 >= num2 and num1 >= num3:\n",
    "        return f\"The largest number is: {num1}\"\n",
    "    elif num2 >= num1 and num2 >= num3:\n",
    "        return f\"The largest number is: {num2}\"\n",
    "    else:\n",
    "        return f\"The largest number is: {num3}\"\n",
    "\n",
    "# Input from the user\n",
    "num1_input = input(\"Enter the first number: \")\n",
    "num2_input = input(\"Enter the second number: \")\n",
    "num3_input = input(\"Enter the third number: \")\n",
    "\n",
    "# Check if the inputs are valid numbers\n",
    "if all(i.isdigit() or (i.startswith('-') and i[1:].isdigit()) for i in [num1_input, num2_input, num3_input]):\n",
    "    # Convert inputs to float\n",
    "    num1 = float(num1_input)\n",
    "    num2 = float(num2_input)\n",
    "    num3 = float(num3_input)\n",
    "    result = find_largest(num1, num2, num3)\n",
    "    print(result)\n",
    "else:\n",
    "    print(\"Please enter valid numbers.\")\n"
   ]
  },
  {
   "cell_type": "code",
   "execution_count": 21,
   "id": "a5bbcac2",
   "metadata": {},
   "outputs": [
    {
     "name": "stdout",
     "output_type": "stream",
     "text": [
      "Enter a string: llama\n",
      "'llama' is not a palindrome.\n"
     ]
    }
   ],
   "source": [
    "#9. Create a program that checks if a given string is a palindrome.\n",
    "# Function to check if a string is a palindrome\n",
    "def is_palindrome(string):\n",
    "    # Normalize the string by removing spaces and converting to lowercase\n",
    "    cleaned_string = ''.join(string.split()).lower()\n",
    "    return cleaned_string == cleaned_string[::-1]\n",
    "\n",
    "# Input from the user\n",
    "string_input = input(\"Enter a string: \")\n",
    "if string_input:\n",
    "    if is_palindrome(string_input):\n",
    "        print(f\"'{string_input}' is a palindrome.\")\n",
    "    else:\n",
    "        print(f\"'{string_input}' is not a palindrome.\")\n",
    "else:\n",
    "    print(\"Please enter a valid string.\")\n"
   ]
  },
  {
   "cell_type": "code",
   "execution_count": 22,
   "id": "3d9fdc27",
   "metadata": {},
   "outputs": [
    {
     "name": "stdout",
     "output_type": "stream",
     "text": [
      "Enter the student's score: 92\n",
      "The grade is: A\n"
     ]
    }
   ],
   "source": [
    "#10. Write a Python program to calculate the grade based on a student's score.\n",
    "# Function to calculate the grade based on score\n",
    "def calculate_grade(score):\n",
    "    if score >= 90:\n",
    "        return \"A\"\n",
    "    elif score >= 80:\n",
    "        return \"B\"\n",
    "    elif score >= 70:\n",
    "        return \"C\"\n",
    "    elif score >= 60:\n",
    "        return \"D\"\n",
    "    else:\n",
    "        return \"F\"\n",
    "\n",
    "# Input from the user\n",
    "score_input = input(\"Enter the student's score: \")\n",
    "\n",
    "# Check if the input is a valid number\n",
    "if score_input.isdigit() or (score_input.startswith('-') and score_input[1:].isdigit()):\n",
    "    # Convert input to float\n",
    "    score = float(score_input)\n",
    "    if 0 <= score <= 100:  # Check if score is in valid range\n",
    "        grade = calculate_grade(score)\n",
    "        print(f\"The grade is: {grade}\")\n",
    "    else:\n",
    "        print(\"Please enter a score between 0 and 100.\")\n",
    "else:\n",
    "    print(\"Please enter a valid score.\")\n"
   ]
  },
  {
   "cell_type": "markdown",
   "id": "5c137d78",
   "metadata": {},
   "source": [
    "Nested If-Else Statements:"
   ]
  },
  {
   "cell_type": "code",
   "execution_count": 33,
   "id": "7420eae8",
   "metadata": {},
   "outputs": [
    {
     "name": "stdout",
     "output_type": "stream",
     "text": [
      "Enter the first number: 12\n",
      "Enter the second number: 11\n",
      "Enter the third number: 34\n",
      "The largest number is: 34.0\n"
     ]
    }
   ],
   "source": [
    "#11. Write a program to find the largest among three numbers using nested if-else statements.\n",
    "# Function to find the largest of three numbers using nested if-else\n",
    "def find_largest(num1, num2, num3):\n",
    "    if num1 >= num2:\n",
    "        if num1 >= num3:\n",
    "            return f\"The largest number is: {num1}\"\n",
    "        else:\n",
    "            return f\"The largest number is: {num3}\"\n",
    "    else:\n",
    "        if num2 >= num3:\n",
    "            return f\"The largest number is: {num2}\"\n",
    "        else:\n",
    "            return f\"The largest number is: {num3}\"\n",
    "\n",
    "# Input from the user\n",
    "num1 = float(input(\"Enter the first number: \"))\n",
    "num2 = float(input(\"Enter the second number: \"))\n",
    "num3 = float(input(\"Enter the third number: \"))\n",
    "\n",
    "result = find_largest(num1, num2, num3)\n",
    "print(result)\n"
   ]
  },
  {
   "cell_type": "code",
   "execution_count": 32,
   "id": "117357a0",
   "metadata": {},
   "outputs": [
    {
     "name": "stdout",
     "output_type": "stream",
     "text": [
      "Enter side A: 2\n",
      "Enter side B: 4\n",
      "Enter side C: 5\n",
      "The triangle is scalene.\n"
     ]
    }
   ],
   "source": [
    "#12. Implement a program to determine if a triangle is equilateral, isosceles, or scalene.\n",
    "# Function to determine the type of triangle\n",
    "def triangle_type(a, b, c):\n",
    "    if a <= 0 or b <= 0 or c <= 0:\n",
    "        return \"Invalid triangle sides.\"\n",
    "    if a == b:\n",
    "        if b == c:\n",
    "            return \"The triangle is equilateral.\"\n",
    "        else:\n",
    "            return \"The triangle is isosceles.\"\n",
    "    else:\n",
    "        if b == c or a == c:\n",
    "            return \"The triangle is isosceles.\"\n",
    "        else:\n",
    "            return \"The triangle is scalene.\"\n",
    "\n",
    "# Input from the user\n",
    "side_a = float(input(\"Enter side A: \"))\n",
    "side_b = float(input(\"Enter side B: \"))\n",
    "side_c = float(input(\"Enter side C: \"))\n",
    "\n",
    "result = triangle_type(side_a, side_b, side_c)\n",
    "print(result)\n"
   ]
  },
  {
   "cell_type": "code",
   "execution_count": 31,
   "id": "dcbe3e97",
   "metadata": {},
   "outputs": [
    {
     "name": "stdout",
     "output_type": "stream",
     "text": [
      "Enter a year: 2020\n",
      "The year 2020 is a leap year.\n"
     ]
    }
   ],
   "source": [
    "#13. Develop a program that checks if a year is a leap year and also if it is a century year.\n",
    "# Function to check if a year is a leap year and a century year\n",
    "def check_year(year):\n",
    "    if year % 100 == 0:\n",
    "        if year % 400 == 0:\n",
    "            return f\"The year {year} is a leap year and a century year.\"\n",
    "        else:\n",
    "            return f\"The year {year} is not a leap year, but it is a century year.\"\n",
    "    else:\n",
    "        if year % 4 == 0:\n",
    "            return f\"The year {year} is a leap year.\"\n",
    "        else:\n",
    "            return f\"The year {year} is not a leap year.\"\n",
    "\n",
    "# Input from the user\n",
    "year = int(input(\"Enter a year: \"))\n",
    "result = check_year(year)\n",
    "print(result)\n"
   ]
  },
  {
   "cell_type": "code",
   "execution_count": 30,
   "id": "87dce001",
   "metadata": {},
   "outputs": [
    {
     "name": "stdout",
     "output_type": "stream",
     "text": [
      "Enter a number: 21\n",
      "The number is positive.\n"
     ]
    }
   ],
   "source": [
    "#14. Write a Python script to determine if a number is positive, negative, or zero.\n",
    "# Function to check if a number is positive, negative, or zero\n",
    "def check_number(number):\n",
    "    if number > 0:\n",
    "        return \"The number is positive.\"\n",
    "    else:\n",
    "        if number < 0:\n",
    "            return \"The number is negative.\"\n",
    "        else:\n",
    "            return \"The number is zero.\"\n",
    "\n",
    "# Input from the user\n",
    "num = float(input(\"Enter a number: \"))\n",
    "result = check_number(num)\n",
    "print(result)\n"
   ]
  },
  {
   "cell_type": "code",
   "execution_count": 29,
   "id": "92b08588",
   "metadata": {},
   "outputs": [
    {
     "name": "stdout",
     "output_type": "stream",
     "text": [
      "Enter the person's age: 19\n",
      "The person is a teenager.\n"
     ]
    }
   ],
   "source": [
    "#15. Create a program to check if a person is a teenager (between 13 and 19 years old).\n",
    "# Function to check if a person is a teenager\n",
    "def is_teenager(age):\n",
    "    if age >= 13:\n",
    "        if age <= 19:\n",
    "            return \"The person is a teenager.\"\n",
    "        else:\n",
    "            return \"The person is not a teenager.\"\n",
    "    else:\n",
    "        return \"The person is not a teenager.\"\n",
    "\n",
    "# Input from the user\n",
    "age = int(input(\"Enter the person's age: \"))\n",
    "result = is_teenager(age)\n",
    "print(result)\n"
   ]
  },
  {
   "cell_type": "code",
   "execution_count": 27,
   "id": "2dce2092",
   "metadata": {},
   "outputs": [
    {
     "name": "stdout",
     "output_type": "stream",
     "text": [
      "Enter the angle in degrees: 45\n",
      "The angle is acute.\n"
     ]
    }
   ],
   "source": [
    "#16. Develop a program that determines the type of angle based on its measure (acute, obtuse, or right).\n",
    "# Function to determine the type of angle\n",
    "def angle_type(angle):\n",
    "    if angle < 0 or angle >= 360:\n",
    "        return \"Invalid angle.\"\n",
    "    if angle < 90:\n",
    "        return \"The angle is acute.\"\n",
    "    else:\n",
    "        if angle == 90:\n",
    "            return \"The angle is right.\"\n",
    "        else:\n",
    "            return \"The angle is obtuse.\"\n",
    "\n",
    "# Input from the user\n",
    "angle = float(input(\"Enter the angle in degrees: \"))\n",
    "result = angle_type(angle)\n",
    "print(result)\n"
   ]
  },
  {
   "cell_type": "code",
   "execution_count": 26,
   "id": "b21f793b",
   "metadata": {},
   "outputs": [
    {
     "name": "stdout",
     "output_type": "stream",
     "text": [
      "Enter coefficient a: 2\n",
      "Enter coefficient b: 3\n",
      "Enter coefficient c: 6\n",
      "The roots of the quadratic equation are complex: (-0.75+1.5612494995995996j) and (-0.75-1.5612494995995996j)\n"
     ]
    }
   ],
   "source": [
    "#17. Write a Python program to calculate the roots of a quadratic equation.\n",
    "import cmath  # For complex number support\n",
    "\n",
    "# Function to calculate the roots of a quadratic equation\n",
    "def calculate_roots(a, b, c):\n",
    "    if a == 0:\n",
    "        return \"Coefficient 'a' cannot be zero.\"\n",
    "    else:\n",
    "        discriminant = b**2 - 4*a*c\n",
    "        if discriminant > 0:\n",
    "            root1 = (-b + cmath.sqrt(discriminant)) / (2*a)\n",
    "            root2 = (-b - cmath.sqrt(discriminant)) / (2*a)\n",
    "            return f\"The roots of the quadratic equation are: {root1} and {root2}\"\n",
    "        elif discriminant == 0:\n",
    "            root = -b / (2*a)\n",
    "            return f\"The root of the quadratic equation is: {root}\"\n",
    "        else:\n",
    "            root1 = (-b + cmath.sqrt(discriminant)) / (2*a)\n",
    "            root2 = (-b - cmath.sqrt(discriminant)) / (2*a)\n",
    "            return f\"The roots of the quadratic equation are complex: {root1} and {root2}\"\n",
    "\n",
    "# Input from the user\n",
    "a = float(input(\"Enter coefficient a: \"))\n",
    "b = float(input(\"Enter coefficient b: \"))\n",
    "c = float(input(\"Enter coefficient c: \"))\n",
    "\n",
    "result = calculate_roots(a, b, c)\n",
    "print(result)"
   ]
  },
  {
   "cell_type": "code",
   "execution_count": 25,
   "id": "9407149c",
   "metadata": {},
   "outputs": [
    {
     "name": "stdout",
     "output_type": "stream",
     "text": [
      "Enter a number (1-7) to get the day of the week: 3\n",
      "Wednesday\n"
     ]
    }
   ],
   "source": [
    "#18. Implement a program to determine the day of the week based on a user-provided number (1 for Monday, 2 for Tuesday, etc.).\n",
    "# Function to determine the day of the week\n",
    "def day_of_week(day_number):\n",
    "    if day_number == 1:\n",
    "        return \"Monday\"\n",
    "    else:\n",
    "        if day_number == 2:\n",
    "            return \"Tuesday\"\n",
    "        else:\n",
    "            if day_number == 3:\n",
    "                return \"Wednesday\"\n",
    "            else:\n",
    "                if day_number == 4:\n",
    "                    return \"Thursday\"\n",
    "                else:\n",
    "                    if day_number == 5:\n",
    "                        return \"Friday\"\n",
    "                    else:\n",
    "                        if day_number == 6:\n",
    "                            return \"Saturday\"\n",
    "                        else:\n",
    "                            if day_number == 7:\n",
    "                                return \"Sunday\"\n",
    "                            else:\n",
    "                                return \"Invalid input. Please enter a number between 1 and 7.\"\n",
    "\n",
    "# Input from the user\n",
    "day_number = int(input(\"Enter a number (1-7) to get the day of the week: \"))\n",
    "result = day_of_week(day_number)\n",
    "print(result)\n"
   ]
  },
  {
   "cell_type": "code",
   "execution_count": 24,
   "id": "ce2f3658",
   "metadata": {},
   "outputs": [
    {
     "name": "stdout",
     "output_type": "stream",
     "text": [
      "Enter a year: 2023\n",
      "The year 2023 is not a leap year.\n"
     ]
    }
   ],
   "source": [
    "#19. Create a program that determines if a year is a leap year and also if it is evenly divisible by 400.\n",
    "# Function to check if a year is a leap year and divisible by 400\n",
    "def check_leap_year(year):\n",
    "    if year % 400 == 0:\n",
    "        return f\"The year {year} is a leap year and is evenly divisible by 400.\"\n",
    "    else:\n",
    "        if year % 100 == 0:\n",
    "            return f\"The year {year} is a century year but not a leap year.\"\n",
    "        else:\n",
    "            if year % 4 == 0:\n",
    "                return f\"The year {year} is a leap year.\"\n",
    "            else:\n",
    "                return f\"The year {year} is not a leap year.\"\n",
    "\n",
    "# Input from the user\n",
    "year = int(input(\"Enter a year: \"))\n",
    "result = check_leap_year(year)\n",
    "print(result)\n"
   ]
  },
  {
   "cell_type": "code",
   "execution_count": 23,
   "id": "16761836",
   "metadata": {},
   "outputs": [
    {
     "name": "stdout",
     "output_type": "stream",
     "text": [
      "Enter a number: 124\n",
      "124 is not a prime number.\n"
     ]
    }
   ],
   "source": [
    "#20. Develop a program that checks if a given number is prime or not using nested if-else statements.\n",
    "# Function to check if a number is prime using nested if-else\n",
    "def is_prime(number):\n",
    "    if number <= 1:\n",
    "        return f\"{number} is not a prime number.\"\n",
    "    else:\n",
    "        is_prime_number = True\n",
    "        for i in range(2, int(number**0.5) + 1):\n",
    "            if number % i == 0:\n",
    "                is_prime_number = False\n",
    "                break\n",
    "        if is_prime_number:\n",
    "            return f\"{number} is a prime number.\"\n",
    "        else:\n",
    "            return f\"{number} is not a prime number.\"\n",
    "\n",
    "# Input from the user\n",
    "num = int(input(\"Enter a number: \"))\n",
    "result = is_prime(num)\n",
    "print(result)\n"
   ]
  },
  {
   "cell_type": "markdown",
   "id": "2b58f569",
   "metadata": {},
   "source": [
    "Elif Statements:"
   ]
  },
  {
   "cell_type": "code",
   "execution_count": 1,
   "id": "e7bf7ce3",
   "metadata": {},
   "outputs": [
    {
     "name": "stdout",
     "output_type": "stream",
     "text": [
      "B\n"
     ]
    }
   ],
   "source": [
    "#21. Write a Python program to assign grades based on different ranges of scores using elif statements.\n",
    "\n",
    "def assign_grade(score):\n",
    "    if score >= 90:\n",
    "        return \"A\"\n",
    "    elif score >= 80:\n",
    "        return \"B\"\n",
    "    elif score >= 70:\n",
    "        return \"C\"\n",
    "    elif score >= 60:\n",
    "        return \"D\"\n",
    "    else:\n",
    "        return \"F\"\n",
    "\n",
    "# Example\n",
    "print(assign_grade(85))  \n",
    "\n"
   ]
  },
  {
   "cell_type": "code",
   "execution_count": 2,
   "id": "c2d39ce3",
   "metadata": {},
   "outputs": [
    {
     "name": "stdout",
     "output_type": "stream",
     "text": [
      "Acute triangle\n"
     ]
    }
   ],
   "source": [
    "#22. Implement a program to determine the type of a triangle based on its angles.\n",
    "def triangle_type(angle1, angle2, angle3):\n",
    "    if angle1 + angle2 + angle3 != 180:\n",
    "        return \"Not a valid triangle\"\n",
    "    elif angle1 == 90 or angle2 == 90 or angle3 == 90:\n",
    "        return \"Right triangle\"\n",
    "    elif angle1 < 90 and angle2 < 90 and angle3 < 90:\n",
    "        return \"Acute triangle\"\n",
    "    else:\n",
    "        return \"Obtuse triangle\"\n",
    "\n",
    "# Example\n",
    "print(triangle_type(60, 60, 60)) \n"
   ]
  },
  {
   "cell_type": "code",
   "execution_count": 3,
   "id": "13b082eb",
   "metadata": {},
   "outputs": [
    {
     "name": "stdout",
     "output_type": "stream",
     "text": [
      "Normal weight\n"
     ]
    }
   ],
   "source": [
    "#23. Develop a program to categorize a given person's BMI into underweight, normal, overweight, or obese using elif statements.\n",
    "def categorize_bmi(bmi):\n",
    "    if bmi < 18.5:\n",
    "        return \"Underweight\"\n",
    "    elif 18.5 <= bmi < 24.9:\n",
    "        return \"Normal weight\"\n",
    "    elif 25 <= bmi < 29.9:\n",
    "        return \"Overweight\"\n",
    "    else:\n",
    "        return \"Obese\"\n",
    "\n",
    "# Example\n",
    "print(categorize_bmi(22)) \n"
   ]
  },
  {
   "cell_type": "code",
   "execution_count": 4,
   "id": "d2c3c547",
   "metadata": {},
   "outputs": [
    {
     "name": "stdout",
     "output_type": "stream",
     "text": [
      "Negative\n"
     ]
    }
   ],
   "source": [
    "# 24. Create a program that determines whether a given number is positive, negative, or zero using elif\n",
    "# statements.\n",
    "def number_type(num):\n",
    "    if num > 0:\n",
    "        return \"Positive\"\n",
    "    elif num < 0:\n",
    "        return \"Negative\"\n",
    "    else:\n",
    "        return \"Zero\"\n",
    "\n",
    "# Example\n",
    "print(number_type(-10)) "
   ]
  },
  {
   "cell_type": "code",
   "execution_count": 5,
   "id": "843c27ce",
   "metadata": {},
   "outputs": [
    {
     "name": "stdout",
     "output_type": "stream",
     "text": [
      "Special character\n"
     ]
    }
   ],
   "source": [
    "# 25. Write a Python script to determine the type of a character (uppercase, lowercase, or special) using elif\n",
    "# statements.\n",
    "def character_type(char):\n",
    "    if char.isupper():\n",
    "        return \"Uppercase letter\"\n",
    "    elif char.islower():\n",
    "        return \"Lowercase letter\"\n",
    "    elif char.isdigit():\n",
    "        return \"Digit\"\n",
    "    else:\n",
    "        return \"Special character\"\n",
    "\n",
    "# Example\n",
    "print(character_type('@')) \n"
   ]
  },
  {
   "cell_type": "code",
   "execution_count": 6,
   "id": "0d000329",
   "metadata": {},
   "outputs": [
    {
     "name": "stdout",
     "output_type": "stream",
     "text": [
      "212.5\n"
     ]
    }
   ],
   "source": [
    "# 26. Implement a program to calculate the discounted price based on different purchase amounts using elif\n",
    "# statements.\n",
    "def discounted_price(amount):\n",
    "    if amount > 500:\n",
    "        discount = 0.20\n",
    "    elif amount > 200:\n",
    "        discount = 0.15\n",
    "    elif amount > 100:\n",
    "        discount = 0.10\n",
    "    else:\n",
    "        discount = 0.05\n",
    "    return amount * (1 - discount)\n",
    "\n",
    "# Example\n",
    "print(discounted_price(250))  \n"
   ]
  },
  {
   "cell_type": "code",
   "execution_count": 7,
   "id": "aed7e241",
   "metadata": {},
   "outputs": [
    {
     "name": "stdout",
     "output_type": "stream",
     "text": [
      "625.0\n"
     ]
    }
   ],
   "source": [
    "# 27. Develop a program to calculate the electricity bill based on different consumption slabs using elif\n",
    "# statements.\n",
    "def electricity_bill(units):\n",
    "    if units <= 100:\n",
    "        rate = 1.5\n",
    "    elif units <= 200:\n",
    "        rate = 2.0\n",
    "    elif units <= 500:\n",
    "        rate = 2.5\n",
    "    else:\n",
    "        rate = 3.0\n",
    "    return units * rate\n",
    "\n",
    "# Example\n",
    "print(electricity_bill(250)) \n"
   ]
  },
  {
   "cell_type": "code",
   "execution_count": 8,
   "id": "9a3a776a",
   "metadata": {},
   "outputs": [
    {
     "name": "stdout",
     "output_type": "stream",
     "text": [
      "Square\n"
     ]
    }
   ],
   "source": [
    "# 28. Create a program to determine the type of quadrilateral based on its angles and sides using elif\n",
    "# statements.\n",
    "def quadrilateral_type(a, b, c, d, angle1, angle2, angle3, angle4):\n",
    "    if angle1 + angle2 + angle3 + angle4 != 360:\n",
    "        return \"Not a valid quadrilateral\"\n",
    "    elif a == b == c == d and angle1 == angle2 == angle3 == angle4 == 90:\n",
    "        return \"Square\"\n",
    "    elif a == c and b == d and angle1 == angle2 == angle3 == angle4 == 90:\n",
    "        return \"Rectangle\"\n",
    "    elif a == c and b == d:\n",
    "        return \"Parallelogram\"\n",
    "    elif angle1 == angle3 and angle2 == angle4:\n",
    "        return \"Trapezoid\"\n",
    "    else:\n",
    "        return \"Irregular quadrilateral\"\n",
    "\n",
    "# Example\n",
    "print(quadrilateral_type(5, 5, 5, 5, 90, 90, 90, 90))  \n"
   ]
  },
  {
   "cell_type": "code",
   "execution_count": 9,
   "id": "c49bb92c",
   "metadata": {},
   "outputs": [
    {
     "name": "stdout",
     "output_type": "stream",
     "text": [
      "Spring\n"
     ]
    }
   ],
   "source": [
    "# 29. Write a Python script to determine the season based on a user-provided month using elif statements.\n",
    "def determine_season(month):\n",
    "    month = month.lower()\n",
    "    if month in (\"december\", \"january\", \"february\"):\n",
    "        return \"Winter\"\n",
    "    elif month in (\"march\", \"april\", \"may\"):\n",
    "        return \"Spring\"\n",
    "    elif month in (\"june\", \"july\", \"august\"):\n",
    "        return \"Summer\"\n",
    "    elif month in (\"september\", \"october\", \"november\"):\n",
    "        return \"Autumn\"\n",
    "    else:\n",
    "        return \"Invalid month\"\n",
    "\n",
    "# Example\n",
    "print(determine_season(\"April\")) \n"
   ]
  },
  {
   "cell_type": "code",
   "execution_count": 10,
   "id": "7379f005",
   "metadata": {},
   "outputs": [
    {
     "name": "stdout",
     "output_type": "stream",
     "text": [
      "Leap year, 29 days in February\n"
     ]
    }
   ],
   "source": [
    "# 30. Implement a program to determine the type of a year (leap or common) and month (30 or 31 days) using\n",
    "# elif statements\n",
    "def year_and_month_info(year, month):\n",
    "    if (year % 4 == 0 and year % 100 != 0) or (year % 400 == 0):\n",
    "        leap_year = True\n",
    "    else:\n",
    "        leap_year = False\n",
    "\n",
    "    if month in (\"January\", \"March\", \"May\", \"July\", \"August\", \"October\", \"December\"):\n",
    "        days = 31\n",
    "    elif month in (\"April\", \"June\", \"September\", \"November\"):\n",
    "        days = 30\n",
    "    elif month == \"February\":\n",
    "        days = 29 if leap_year else 28\n",
    "    else:\n",
    "        return \"Invalid month\"\n",
    "\n",
    "    year_type = \"Leap year\" if leap_year else \"Common year\"\n",
    "    return f\"{year_type}, {days} days in {month}\"\n",
    "\n",
    "# Example\n",
    "print(year_and_month_info(2024, \"February\"))  \n"
   ]
  },
  {
   "cell_type": "markdown",
   "id": "b6998173",
   "metadata": {},
   "source": [
    "Basic Level:"
   ]
  },
  {
   "cell_type": "code",
   "execution_count": 11,
   "id": "d5038748",
   "metadata": {},
   "outputs": [
    {
     "name": "stdout",
     "output_type": "stream",
     "text": [
      "Negative\n"
     ]
    }
   ],
   "source": [
    "#1. Write a Python program that checks if a given number is positive, negative, or zero.\n",
    "def check_number(num):\n",
    "    if num > 0:\n",
    "        return \"Positive\"\n",
    "    elif num < 0:\n",
    "        return \"Negative\"\n",
    "    else:\n",
    "        return \"Zero\"\n",
    "\n",
    "# Example\n",
    "print(check_number(-3)) \n"
   ]
  },
  {
   "cell_type": "code",
   "execution_count": 12,
   "id": "17eb9709",
   "metadata": {},
   "outputs": [
    {
     "name": "stdout",
     "output_type": "stream",
     "text": [
      "Eligible to vote\n"
     ]
    }
   ],
   "source": [
    "#2. Create a program to determine if a person is eligible to vote based on their age.\n",
    "def is_eligible_to_vote(age):\n",
    "    if age >= 18:\n",
    "        return \"Eligible to vote\"\n",
    "    else:\n",
    "        return \"Not eligible to vote\"\n",
    "\n",
    "# Example\n",
    "print(is_eligible_to_vote(20))  # Output: Eligible to vote\n"
   ]
  },
  {
   "cell_type": "code",
   "execution_count": 13,
   "id": "6cc4f38d",
   "metadata": {},
   "outputs": [
    {
     "name": "stdout",
     "output_type": "stream",
     "text": [
      "10\n"
     ]
    }
   ],
   "source": [
    "#3. Write a program to find the maximum of two given numbers using conditional statements.\n",
    "def max_of_two(num1, num2):\n",
    "    if num1 > num2:\n",
    "        return num1\n",
    "    else:\n",
    "        return num2\n",
    "\n",
    "# Example\n",
    "print(max_of_two(5, 10))  # Output: 10\n"
   ]
  },
  {
   "cell_type": "code",
   "execution_count": 14,
   "id": "00887e18",
   "metadata": {},
   "outputs": [
    {
     "name": "stdout",
     "output_type": "stream",
     "text": [
      "B\n"
     ]
    }
   ],
   "source": [
    "#4. Develop a program that calculates the grade of a student based on their exam score.\n",
    "\n",
    "def calculate_grade(score):\n",
    "    if score >= 90:\n",
    "        return \"A\"\n",
    "    elif score >= 80:\n",
    "        return \"B\"\n",
    "    elif score >= 70:\n",
    "        return \"C\"\n",
    "    elif score >= 60:\n",
    "        return \"D\"\n",
    "    else:\n",
    "        return \"F\"\n",
    "\n",
    "# Example\n",
    "print(calculate_grade(85))  \n"
   ]
  },
  {
   "cell_type": "code",
   "execution_count": 15,
   "id": "c31330b6",
   "metadata": {},
   "outputs": [
    {
     "name": "stdout",
     "output_type": "stream",
     "text": [
      "Leap year\n"
     ]
    }
   ],
   "source": [
    "#5. Create a program that checks if a year is a leap year or not.\n",
    "def is_leap_year(year):\n",
    "    if (year % 4 == 0 and year % 100 != 0) or (year % 400 == 0):\n",
    "        return \"Leap year\"\n",
    "    else:\n",
    "        return \"Common year\"\n",
    "\n",
    "# Example\n",
    "print(is_leap_year(2024)) \n"
   ]
  },
  {
   "cell_type": "code",
   "execution_count": 16,
   "id": "696faaaa",
   "metadata": {},
   "outputs": [
    {
     "name": "stdout",
     "output_type": "stream",
     "text": [
      "Equilateral triangle\n"
     ]
    }
   ],
   "source": [
    "#6. Write a program to classify a triangle based on its sides' lengths.\n",
    "def triangle_type(a, b, c):\n",
    "    if a == b == c:\n",
    "        return \"Equilateral triangle\"\n",
    "    elif a == b or b == c or a == c:\n",
    "        return \"Isosceles triangle\"\n",
    "    else:\n",
    "        return \"Scalene triangle\"\n",
    "\n",
    "# Example\n",
    "print(triangle_type(3, 3, 3))  \n"
   ]
  },
  {
   "cell_type": "code",
   "execution_count": null,
   "id": "555dbc92",
   "metadata": {},
   "outputs": [],
   "source": [
    "#7. Build a program that determines the largest of three given numbers.\n",
    "\n",
    "def max_of_three(num1, num2, num3):\n",
    "    if num1 >= num2 and num1 >= num3:\n",
    "        return num1\n",
    "    elif num2 >= num3:\n",
    "        return num2\n",
    "    else:\n",
    "        return num3\n",
    "\n",
    "# Example\n",
    "print(max_of_three(10, 15, 5)) \n"
   ]
  },
  {
   "cell_type": "code",
   "execution_count": 17,
   "id": "b7e1aa1e",
   "metadata": {},
   "outputs": [
    {
     "name": "stdout",
     "output_type": "stream",
     "text": [
      "Vowel\n"
     ]
    }
   ],
   "source": [
    "#8. Develop a program that checks whether a character is a vowel or a consonant.\n",
    "def is_vowel(char):\n",
    "    if char.lower() in 'aeiou':\n",
    "        return \"Vowel\"\n",
    "    else:\n",
    "        return \"Consonant\"\n",
    "\n",
    "# Example\n",
    "print(is_vowel('A')) \n"
   ]
  },
  {
   "cell_type": "code",
   "execution_count": 18,
   "id": "abda840f",
   "metadata": {},
   "outputs": [
    {
     "name": "stdout",
     "output_type": "stream",
     "text": [
      "255.0\n"
     ]
    }
   ],
   "source": [
    "#9. Create a program to calculate the total cost of a shopping cart based on discounts.\n",
    "def calculate_total_cost(amount):\n",
    "    if amount > 500:\n",
    "        discount = 0.20\n",
    "    elif amount > 200:\n",
    "        discount = 0.15\n",
    "    elif amount > 100:\n",
    "        discount = 0.10\n",
    "    else:\n",
    "        discount = 0.05\n",
    "    total_cost = amount * (1 - discount)\n",
    "    return total_cost\n",
    "\n",
    "# Example\n",
    "print(calculate_total_cost(300))  \n"
   ]
  },
  {
   "cell_type": "code",
   "execution_count": 19,
   "id": "d7f92037",
   "metadata": {},
   "outputs": [
    {
     "name": "stdout",
     "output_type": "stream",
     "text": [
      "Odd\n"
     ]
    }
   ],
   "source": [
    "#10. Write a program that checks if a given number is even or odd.\n",
    "\n",
    "def is_even_or_odd(num):\n",
    "    if num % 2 == 0:\n",
    "        return \"Even\"\n",
    "    else:\n",
    "        return \"Odd\"\n",
    "\n",
    "# Example\n",
    "print(is_even_or_odd(7))  # Output: Odd\n"
   ]
  },
  {
   "cell_type": "markdown",
   "id": "01056c60",
   "metadata": {},
   "source": [
    "Intermediate Level:"
   ]
  },
  {
   "cell_type": "code",
   "execution_count": 20,
   "id": "e3b90b10",
   "metadata": {},
   "outputs": [
    {
     "name": "stdout",
     "output_type": "stream",
     "text": [
      "(2.0, 1.0)\n"
     ]
    }
   ],
   "source": [
    "#11. Write a program that calculates the roots of a quadratic equation .\n",
    "import math\n",
    "\n",
    "def quadratic_roots(a, b, c):\n",
    "    discriminant = b**2 - 4*a*c\n",
    "    if discriminant > 0:\n",
    "        root1 = (-b + math.sqrt(discriminant)) / (2 * a)\n",
    "        root2 = (-b - math.sqrt(discriminant)) / (2 * a)\n",
    "        return root1, root2\n",
    "    elif discriminant == 0:\n",
    "        root = -b / (2 * a)\n",
    "        return root, root\n",
    "    else:\n",
    "        real_part = -b / (2 * a)\n",
    "        imaginary_part = math.sqrt(-discriminant) / (2 * a)\n",
    "        return (real_part + imaginary_part * 1j), (real_part - imaginary_part * 1j)\n",
    "\n",
    "# Example\n",
    "print(quadratic_roots(1, -3, 2))  "
   ]
  },
  {
   "cell_type": "code",
   "execution_count": 22,
   "id": "2b66eee1",
   "metadata": {},
   "outputs": [
    {
     "name": "stdout",
     "output_type": "stream",
     "text": [
      "Wednesday\n"
     ]
    }
   ],
   "source": [
    "#12. Create a program that determines the day of the week based on the day number (1-7).\n",
    "\n",
    "def day_of_week(day_num):\n",
    "    days = {\n",
    "        1: \"Monday\",\n",
    "        2: \"Tuesday\",\n",
    "        3: \"Wednesday\",\n",
    "        4: \"Thursday\",\n",
    "        5: \"Friday\",\n",
    "        6: \"Saturday\",\n",
    "        7: \"Sunday\"\n",
    "    }\n",
    "    return days.get(day_num, \"Invalid day number\")\n",
    "\n",
    "# Example\n",
    "print(day_of_week(3))  \n"
   ]
  },
  {
   "cell_type": "code",
   "execution_count": 23,
   "id": "0eaa0f0d",
   "metadata": {},
   "outputs": [
    {
     "name": "stdout",
     "output_type": "stream",
     "text": [
      "120\n"
     ]
    }
   ],
   "source": [
    "#13. Develop a program that calculates the factorial of a given number using recursion.\n",
    "\n",
    "def factorial(n):\n",
    "    if n == 0 or n == 1:\n",
    "        return 1\n",
    "    else:\n",
    "        return n * factorial(n - 1)\n",
    "\n",
    "# Example\n",
    "print(factorial(5)) \n"
   ]
  },
  {
   "cell_type": "code",
   "execution_count": 24,
   "id": "9bdfa70e",
   "metadata": {},
   "outputs": [
    {
     "name": "stdout",
     "output_type": "stream",
     "text": [
      "20\n"
     ]
    }
   ],
   "source": [
    "#14. Write a program to find the largest among three numbers without using the `max()` function.\n",
    "\n",
    "def largest_of_three(a, b, c):\n",
    "    if a >= b and a >= c:\n",
    "        return a\n",
    "    elif b >= c:\n",
    "        return b\n",
    "    else:\n",
    "        return c\n",
    "\n",
    "# Example\n",
    "print(largest_of_three(10, 20, 15)) \n"
   ]
  },
  {
   "cell_type": "code",
   "execution_count": 25,
   "id": "e6e70c0c",
   "metadata": {},
   "outputs": [
    {
     "name": "stdout",
     "output_type": "stream",
     "text": [
      "\n",
      "ATM Menu:\n",
      "1. Check Balance\n",
      "2. Deposit\n",
      "3. Withdraw\n",
      "4. Exit\n",
      "Enter choice: 1\n",
      "Balance: $1000\n",
      "\n",
      "ATM Menu:\n",
      "1. Check Balance\n",
      "2. Deposit\n",
      "3. Withdraw\n",
      "4. Exit\n",
      "Enter choice: 2\n",
      "Enter deposit amount: 2000\n",
      "$2000.0 deposited. New balance: $3000.0\n",
      "\n",
      "ATM Menu:\n",
      "1. Check Balance\n",
      "2. Deposit\n",
      "3. Withdraw\n",
      "4. Exit\n",
      "Enter choice: 3\n",
      "Enter withdrawal amount: 500\n",
      "$500.0 withdrawn. New balance: $2500.0\n",
      "\n",
      "ATM Menu:\n",
      "1. Check Balance\n",
      "2. Deposit\n",
      "3. Withdraw\n",
      "4. Exit\n",
      "Enter choice: 4\n",
      "Thank you for using the ATM!\n"
     ]
    }
   ],
   "source": [
    "#15. Create a program that simulates a basic ATM transaction menu.\n",
    "\n",
    "def atm_menu(balance):\n",
    "    while True:\n",
    "        print(\"\\nATM Menu:\")\n",
    "        print(\"1. Check Balance\")\n",
    "        print(\"2. Deposit\")\n",
    "        print(\"3. Withdraw\")\n",
    "        print(\"4. Exit\")\n",
    "        choice = int(input(\"Enter choice: \"))\n",
    "\n",
    "        if choice == 1:\n",
    "            print(f\"Balance: ${balance}\")\n",
    "        elif choice == 2:\n",
    "            amount = float(input(\"Enter deposit amount: \"))\n",
    "            balance += amount\n",
    "            print(f\"${amount} deposited. New balance: ${balance}\")\n",
    "        elif choice == 3:\n",
    "            amount = float(input(\"Enter withdrawal amount: \"))\n",
    "            if amount > balance:\n",
    "                print(\"Insufficient balance!\")\n",
    "            else:\n",
    "                balance -= amount\n",
    "                print(f\"${amount} withdrawn. New balance: ${balance}\")\n",
    "        elif choice == 4:\n",
    "            print(\"Thank you for using the ATM!\")\n",
    "            break\n",
    "        else:\n",
    "            print(\"Invalid choice. Please try again.\")\n",
    "\n",
    "# Example\n",
    "atm_menu(1000)\n"
   ]
  },
  {
   "cell_type": "code",
   "execution_count": 26,
   "id": "e9dac77d",
   "metadata": {},
   "outputs": [
    {
     "name": "stdout",
     "output_type": "stream",
     "text": [
      "True\n"
     ]
    }
   ],
   "source": [
    "#16. Build a program that checks if a given string is a palindrome or not.\n",
    "\n",
    "def is_palindrome(s):\n",
    "    return s == s[::-1]\n",
    "\n",
    "# Example\n",
    "print(is_palindrome(\"radar\")) \n"
   ]
  },
  {
   "cell_type": "code",
   "execution_count": 27,
   "id": "31a22fec",
   "metadata": {},
   "outputs": [
    {
     "name": "stdout",
     "output_type": "stream",
     "text": [
      "30.0\n"
     ]
    }
   ],
   "source": [
    "#17. Write a program that calculates the average of a list of numbers, excluding the smallest and largest values.\n",
    "\n",
    "def average_excluding_extremes(numbers):\n",
    "    if len(numbers) <= 2:\n",
    "        return \"List too short to exclude extremes.\"\n",
    "    sorted_numbers = sorted(numbers)\n",
    "    trimmed_numbers = sorted_numbers[1:-1]\n",
    "    return sum(trimmed_numbers) / len(trimmed_numbers)\n",
    "\n",
    "# Example\n",
    "print(average_excluding_extremes([10, 20, 30, 40, 50]))  \n"
   ]
  },
  {
   "cell_type": "code",
   "execution_count": 28,
   "id": "c964d198",
   "metadata": {},
   "outputs": [
    {
     "name": "stdout",
     "output_type": "stream",
     "text": [
      "77.0\n"
     ]
    }
   ],
   "source": [
    "#18. Develop a program that converts a given temperature from Celsius to Fahrenheit.\n",
    "\n",
    "def celsius_to_fahrenheit(celsius):\n",
    "    return celsius * 9/5 + 32\n",
    "\n",
    "# Example\n",
    "print(celsius_to_fahrenheit(25))  \n"
   ]
  },
  {
   "cell_type": "code",
   "execution_count": 29,
   "id": "c343b1b9",
   "metadata": {},
   "outputs": [
    {
     "name": "stdout",
     "output_type": "stream",
     "text": [
      "50\n"
     ]
    }
   ],
   "source": [
    "#19. Create a program that simulates a basic calculator for addition, subtraction, multiplication, and division.\n",
    "\n",
    "def calculator(num1, num2, operation):\n",
    "    if operation == '+':\n",
    "        return num1 + num2\n",
    "    elif operation == '-':\n",
    "        return num1 - num2\n",
    "    elif operation == '*':\n",
    "        return num1 * num2\n",
    "    elif operation == '/':\n",
    "        return num1 / num2 if num2 != 0 else \"Division by zero error\"\n",
    "    else:\n",
    "        return \"Invalid operation\"\n",
    "\n",
    "# Example\n",
    "print(calculator(10, 5, '*')) \n"
   ]
  },
  {
   "cell_type": "code",
   "execution_count": 30,
   "id": "b8bc371d",
   "metadata": {},
   "outputs": [
    {
     "name": "stdout",
     "output_type": "stream",
     "text": [
      "Three real roots (complex to solve in Cardano)\n"
     ]
    }
   ],
   "source": [
    "#20. Write a program that determines the roots of a cubic equation using the Cardano formula.\n",
    "\n",
    "def cubic_roots(a, b, c, d):\n",
    "    delta = 18 * a * b * c * d - 4 * b**3 * d + b**2 * c**2 - 4 * a * c**3 - 27 * a**2 * d**2\n",
    "    \n",
    "    if delta > 0:\n",
    "        # Three distinct real roots\n",
    "        return \"Three real roots (complex to solve in Cardano)\"\n",
    "    elif delta == 0:\n",
    "        # All real and at least two are equal\n",
    "        return \"Multiple real roots\"\n",
    "    else:\n",
    "        # One real root and two non-real complex conjugate roots\n",
    "        return \"One real root and two complex roots\"\n",
    "\n",
    "# Example\n",
    "print(cubic_roots(1, -6, 11, -6))  \n"
   ]
  },
  {
   "cell_type": "markdown",
   "id": "1a323bca",
   "metadata": {},
   "source": [
    "Advanced Level:"
   ]
  },
  {
   "cell_type": "code",
   "execution_count": 31,
   "id": "04232a2e",
   "metadata": {},
   "outputs": [
    {
     "name": "stdout",
     "output_type": "stream",
     "text": [
      "13000.0\n"
     ]
    }
   ],
   "source": [
    "#21. Create a program that calculates the income tax based on the user's income and tax brackets.\n",
    "\n",
    "def calculate_income_tax(income):\n",
    "    if income <= 10000:\n",
    "        tax = 0\n",
    "    elif income <= 30000:\n",
    "        tax = 0.1 * (income - 10000)\n",
    "    elif income <= 100000:\n",
    "        tax = 2000 + 0.2 * (income - 30000)\n",
    "    else:\n",
    "        tax = 16000 + 0.3 * (income - 100000)\n",
    "    return tax\n",
    "\n",
    "# Example\n",
    "print(calculate_income_tax(85000))  "
   ]
  },
  {
   "cell_type": "code",
   "execution_count": 32,
   "id": "a2dec052",
   "metadata": {},
   "outputs": [
    {
     "name": "stdout",
     "output_type": "stream",
     "text": [
      "Choose rock, paper, or scissors: paper\n",
      "It's a tie!\n"
     ]
    }
   ],
   "source": [
    "#22. Write a program that simulates a rock-paper-scissors game against the computer.\n",
    "\n",
    "import random\n",
    "\n",
    "def rock_paper_scissors():\n",
    "    choices = [\"rock\", \"paper\", \"scissors\"]\n",
    "    computer_choice = random.choice(choices)\n",
    "    user_choice = input(\"Choose rock, paper, or scissors: \").lower()\n",
    "\n",
    "    if user_choice == computer_choice:\n",
    "        return \"It's a tie!\"\n",
    "    elif (user_choice == \"rock\" and computer_choice == \"scissors\") or \\\n",
    "         (user_choice == \"scissors\" and computer_choice == \"paper\") or \\\n",
    "         (user_choice == \"paper\" and computer_choice == \"rock\"):\n",
    "        return \"You win!\"\n",
    "    else:\n",
    "        return \"Computer wins!\"\n",
    "\n",
    "# Example\n",
    "print(rock_paper_scissors())\n"
   ]
  },
  {
   "cell_type": "code",
   "execution_count": 33,
   "id": "9f14a0ee",
   "metadata": {},
   "outputs": [
    {
     "name": "stdout",
     "output_type": "stream",
     "text": [
      ":\\/i{,'[k_&O\n"
     ]
    }
   ],
   "source": [
    "#23. Develop a program that generates a random password based on user preferences (length, complexity).\n",
    "\n",
    "import random\n",
    "import string\n",
    "\n",
    "def generate_password(length=8, include_special=True):\n",
    "    characters = string.ascii_letters + string.digits\n",
    "    if include_special:\n",
    "        characters += string.punctuation\n",
    "    return ''.join(random.choice(characters) for _ in range(length))\n",
    "\n",
    "# Example\n",
    "print(generate_password(12, include_special=True))  \n",
    "\n"
   ]
  },
  {
   "cell_type": "code",
   "execution_count": 34,
   "id": "be2eebae",
   "metadata": {},
   "outputs": [
    {
     "name": "stdout",
     "output_type": "stream",
     "text": [
      "You find yourself in a dark forest.\n",
      "Do you go left or right? right\n",
      "You find a treasure chest filled with gold!\n",
      "Do you continue forward or go back? forward\n",
      "You find a way out of the forest. Congratulations!\n"
     ]
    }
   ],
   "source": [
    "#24. Create a program that implements a simple text-based adventure game with branching scenarios.\n",
    "\n",
    "def adventure_game():\n",
    "    print(\"You find yourself in a dark forest.\")\n",
    "    choice = input(\"Do you go left or right? \").lower()\n",
    "    \n",
    "    if choice == \"left\":\n",
    "        print(\"You encounter a wild wolf. You escape safely!\")\n",
    "    elif choice == \"right\":\n",
    "        print(\"You find a treasure chest filled with gold!\")\n",
    "    else:\n",
    "        print(\"You wander aimlessly and get lost.\")\n",
    "    \n",
    "    choice = input(\"Do you continue forward or go back? \").lower()\n",
    "    if choice == \"forward\":\n",
    "        print(\"You find a way out of the forest. Congratulations!\")\n",
    "    else:\n",
    "        print(\"You return to where you started.\")\n",
    "\n",
    "# Example\n",
    "adventure_game()\n"
   ]
  },
  {
   "cell_type": "code",
   "execution_count": 35,
   "id": "e55b1f63",
   "metadata": {},
   "outputs": [
    {
     "name": "stdout",
     "output_type": "stream",
     "text": [
      "2.0\n"
     ]
    }
   ],
   "source": [
    "#25. Build a program that solves a linear equation for x, considering different cases.\n",
    "\n",
    "def solve_linear_equation(a, b):\n",
    "    if a == 0:\n",
    "        return \"No solution\" if b != 0 else \"Infinite solutions\"\n",
    "    else:\n",
    "        return -b / a\n",
    "\n",
    "# Example\n",
    "print(solve_linear_equation(2, -4)) \n"
   ]
  },
  {
   "cell_type": "code",
   "execution_count": 36,
   "id": "6a6ad5d7",
   "metadata": {},
   "outputs": [
    {
     "name": "stdout",
     "output_type": "stream",
     "text": [
      "What is the capital of France? paris\n",
      "Correct!\n",
      "What is 5 + 7? 12\n",
      "Correct!\n",
      "What is the color of the sky on a clear day? blue\n",
      "Correct!\n",
      "Your final score is: 3/3\n"
     ]
    }
   ],
   "source": [
    "#26. Write a program that simulates a basic quiz game with multiple-choice questions and scoring.\n",
    "\n",
    "def quiz_game():\n",
    "    questions = {\n",
    "        \"What is the capital of France? \": \"paris\",\n",
    "        \"What is 5 + 7? \": \"12\",\n",
    "        \"What is the color of the sky on a clear day? \": \"blue\"\n",
    "    }\n",
    "    score = 0\n",
    "\n",
    "    for question, answer in questions.items():\n",
    "        user_answer = input(question).strip().lower()\n",
    "        if user_answer == answer:\n",
    "            print(\"Correct!\")\n",
    "            score += 1\n",
    "        else:\n",
    "            print(\"Wrong answer.\")\n",
    "    print(f\"Your final score is: {score}/{len(questions)}\")\n",
    "\n",
    "# Example\n",
    "quiz_game()\n"
   ]
  },
  {
   "cell_type": "code",
   "execution_count": 37,
   "id": "baccdaaa",
   "metadata": {},
   "outputs": [
    {
     "name": "stdout",
     "output_type": "stream",
     "text": [
      "False\n"
     ]
    }
   ],
   "source": [
    "#27. Develop a program that determines whether a given year is a prime number or not.\n",
    "\n",
    "def is_prime_year(year):\n",
    "    if year <= 1:\n",
    "        return False\n",
    "    for i in range(2, int(year ** 0.5) + 1):\n",
    "        if year % i == 0:\n",
    "            return False\n",
    "    return True\n",
    "\n",
    "# Example\n",
    "print(is_prime_year(2023)) \n"
   ]
  },
  {
   "cell_type": "code",
   "execution_count": 38,
   "id": "5c068dbe",
   "metadata": {},
   "outputs": [
    {
     "name": "stdout",
     "output_type": "stream",
     "text": [
      "(10, 32, 45)\n"
     ]
    }
   ],
   "source": [
    "#28. Create a program that sorts three numbers in ascending order using conditional statements.\n",
    "\n",
    "def sort_three_numbers(a, b, c):\n",
    "    if a > b:\n",
    "        a, b = b, a\n",
    "    if b > c:\n",
    "        b, c = c, b\n",
    "    if a > b:\n",
    "        a, b = b, a\n",
    "    return a, b, c\n",
    "\n",
    "# Example\n",
    "print(sort_three_numbers(45, 10, 32))  \n"
   ]
  },
  {
   "cell_type": "code",
   "execution_count": 39,
   "id": "baa3965b",
   "metadata": {},
   "outputs": [
    {
     "name": "stdout",
     "output_type": "stream",
     "text": [
      "[-2.  2. -1.  1.]\n"
     ]
    }
   ],
   "source": [
    "#29. Build a program that determines the roots of a quartic equation using numerical methods.\n",
    "\n",
    "import numpy as np\n",
    "\n",
    "def quartic_roots(a, b, c, d, e):\n",
    "    coefficients = [a, b, c, d, e]\n",
    "    return np.roots(coefficients)\n",
    "\n",
    "# Example\n",
    "print(quartic_roots(1, 0, -5, 0, 4))  \n"
   ]
  },
  {
   "cell_type": "code",
   "execution_count": 40,
   "id": "b76262da",
   "metadata": {},
   "outputs": [
    {
     "name": "stdout",
     "output_type": "stream",
     "text": [
      "BMI: 22.86 - Normal weight\n"
     ]
    }
   ],
   "source": [
    "#30. Write a program that calculates the BMI (Body Mass Index) and provides health recommendations based\n",
    "#on the user's input.\n",
    "\n",
    "def calculate_bmi(weight, height):\n",
    "    bmi = weight / (height ** 2)\n",
    "    if bmi < 18.5:\n",
    "        return f\"BMI: {bmi:.2f} - Underweight\"\n",
    "    elif 18.5 <= bmi < 24.9:\n",
    "        return f\"BMI: {bmi:.2f} - Normal weight\"\n",
    "    elif 25 <= bmi < 29.9:\n",
    "        return f\"BMI: {bmi:.2f} - Overweight\"\n",
    "    else:\n",
    "        return f\"BMI: {bmi:.2f} - Obese\"\n",
    "\n",
    "# Example\n",
    "print(calculate_bmi(70, 1.75))  \n"
   ]
  },
  {
   "cell_type": "markdown",
   "id": "c439cd84",
   "metadata": {},
   "source": [
    "Challenge Level:"
   ]
  },
  {
   "cell_type": "code",
   "execution_count": 41,
   "id": "a5faf6b6",
   "metadata": {},
   "outputs": [
    {
     "name": "stdout",
     "output_type": "stream",
     "text": [
      "Password is valid.\n"
     ]
    }
   ],
   "source": [
    "#31. Create a program that validates a password based on complexity rules (length, characters, etc.).\n",
    "\n",
    "import re\n",
    "\n",
    "def validate_password(password):\n",
    "    if len(password) < 8:\n",
    "        return \"Password must be at least 8 characters long.\"\n",
    "    if not re.search(r\"[A-Z]\", password):\n",
    "        return \"Password must contain at least one uppercase letter.\"\n",
    "    if not re.search(r\"[a-z]\", password):\n",
    "        return \"Password must contain at least one lowercase letter.\"\n",
    "    if not re.search(r\"[0-9]\", password):\n",
    "        return \"Password must contain at least one number.\"\n",
    "    if not re.search(r\"[!@#$%^&*()_+-=]\", password):\n",
    "        return \"Password must contain at least one special character.\"\n",
    "    return \"Password is valid.\"\n",
    "\n",
    "# Example\n",
    "print(validate_password(\"Passw0rd!\"))  \n"
   ]
  },
  {
   "cell_type": "code",
   "execution_count": 42,
   "id": "b837fe84",
   "metadata": {},
   "outputs": [
    {
     "name": "stdout",
     "output_type": "stream",
     "text": [
      "[[6, 8], [10, 12]]\n"
     ]
    }
   ],
   "source": [
    "#32. Develop a program that performs matrix addition and subtraction based on user input.\n",
    "\n",
    "def matrix_operation(matrix1, matrix2, operation):\n",
    "    rows, cols = len(matrix1), len(matrix1[0])\n",
    "    result = [[0] * cols for _ in range(rows)]\n",
    "\n",
    "    for i in range(rows):\n",
    "        for j in range(cols):\n",
    "            if operation == \"add\":\n",
    "                result[i][j] = matrix1[i][j] + matrix2[i][j]\n",
    "            elif operation == \"subtract\":\n",
    "                result[i][j] = matrix1[i][j] - matrix2[i][j]\n",
    "    return result\n",
    "\n",
    "# Example matrices\n",
    "matrix1 = [[1, 2], [3, 4]]\n",
    "matrix2 = [[5, 6], [7, 8]]\n",
    "print(matrix_operation(matrix1, matrix2, \"add\"))\n"
   ]
  },
  {
   "cell_type": "code",
   "execution_count": 43,
   "id": "1342d48c",
   "metadata": {},
   "outputs": [
    {
     "name": "stdout",
     "output_type": "stream",
     "text": [
      "6\n"
     ]
    }
   ],
   "source": [
    "#33. Write a program that calculates the greatest common divisor (GCD) of two numbers using the Euclidean\n",
    "#algorithm.\n",
    "\n",
    "def gcd(a, b):\n",
    "    while b != 0:\n",
    "        a, b = b, a % b\n",
    "    return a\n",
    "\n",
    "# Example\n",
    "print(gcd(48, 18)) \n"
   ]
  },
  {
   "cell_type": "code",
   "execution_count": 44,
   "id": "bae1d004",
   "metadata": {},
   "outputs": [
    {
     "name": "stdout",
     "output_type": "stream",
     "text": [
      "[[4, 4], [10, 8]]\n"
     ]
    }
   ],
   "source": [
    "#34. Build a program that performs matrix multiplication using nested loops and conditional statements.\n",
    "\n",
    "def matrix_multiplication(matrix1, matrix2):\n",
    "    rows1, cols1 = len(matrix1), len(matrix1[0])\n",
    "    rows2, cols2 = len(matrix2), len(matrix2[0])\n",
    "    if cols1 != rows2:\n",
    "        return \"Incompatible matrices for multiplication.\"\n",
    "    \n",
    "    result = [[0] * cols2 for _ in range(rows1)]\n",
    "    for i in range(rows1):\n",
    "        for j in range(cols2):\n",
    "            for k in range(cols1):\n",
    "                result[i][j] += matrix1[i][k] * matrix2[k][j]\n",
    "    return result\n",
    "\n",
    "# Example matrices\n",
    "matrix1 = [[1, 2], [3, 4]]\n",
    "matrix2 = [[2, 0], [1, 2]]\n",
    "print(matrix_multiplication(matrix1, matrix2))\n"
   ]
  },
  {
   "cell_type": "code",
   "execution_count": 53,
   "id": "a0f5bdd1",
   "metadata": {},
   "outputs": [
    {
     "name": "stdout",
     "output_type": "stream",
     "text": [
      "  |   |  \n",
      "-----\n",
      "  |   |  \n",
      "-----\n",
      "  |   |  \n",
      "-----\n",
      "Enter position (1-9): 2\n",
      "  | X |  \n",
      "-----\n",
      "  |   |  \n",
      "-----\n",
      "  |   |  \n",
      "-----\n",
      "  | X |  \n",
      "-----\n",
      "  |   |  \n",
      "-----\n",
      "O |   |  \n",
      "-----\n",
      "Enter position (1-9): 3\n",
      "  | X | X\n",
      "-----\n",
      "  |   |  \n",
      "-----\n",
      "O |   |  \n",
      "-----\n",
      "  | X | X\n",
      "-----\n",
      "O |   |  \n",
      "-----\n",
      "O |   |  \n",
      "-----\n",
      "Enter position (1-9): 1\n",
      "X | X | X\n",
      "-----\n",
      "O |   |  \n",
      "-----\n",
      "O |   |  \n",
      "-----\n",
      "X wins!\n"
     ]
    }
   ],
   "source": [
    "#35. Create a program that simulates a basic text-based tic-tac-toe game against the computer.\n",
    "\n",
    "import random\n",
    "\n",
    "def display_board(board):\n",
    "    for row in board:\n",
    "        print(\" | \".join(row))\n",
    "        print(\"-\" * 5)\n",
    "\n",
    "def check_winner(board, player):\n",
    "    win_conditions = [board[0], board[1], board[2],  # rows\n",
    "                      [board[i][0] for i in range(3)], [board[i][1] for i in range(3)], [board[i][2] for i in range(3)],  # columns\n",
    "                      [board[i][i] for i in range(3)], [board[i][2 - i] for i in range(3)]]  # diagonals\n",
    "    return [player, player, player] in win_conditions\n",
    "\n",
    "def tic_tac_toe():\n",
    "    board = [[\" \" for _ in range(3)] for _ in range(3)]\n",
    "    player = \"X\"\n",
    "    \n",
    "    for turn in range(9):\n",
    "        display_board(board)\n",
    "        if player == \"X\":\n",
    "            move = input(\"Enter position (1-9): \")\n",
    "            row, col = (int(move) - 1) // 3, (int(move) - 1) % 3\n",
    "        else:\n",
    "            row, col = random.randint(0, 2), random.randint(0, 2)\n",
    "            while board[row][col] != \" \":\n",
    "                row, col = random.randint(0, 2), random.randint(0, 2)\n",
    "        \n",
    "        board[row][col] = player\n",
    "        if check_winner(board, player):\n",
    "            display_board(board)\n",
    "            print(f\"{player} wins!\")\n",
    "            return\n",
    "        player = \"O\" if player == \"X\" else \"X\"\n",
    "    \n",
    "    display_board(board)\n",
    "    print(\"It's a tie!\")\n",
    "\n",
    "# Example\n",
    "tic_tac_toe()\n"
   ]
  },
  {
   "cell_type": "code",
   "execution_count": 47,
   "id": "4a1d3070",
   "metadata": {},
   "outputs": [
    {
     "name": "stdout",
     "output_type": "stream",
     "text": [
      "[0, 1, 1, 2, 3, 5, 8, 13, 21, 34]\n"
     ]
    }
   ],
   "source": [
    "#36. Write a program that generates Fibonacci numbers up to a specified term using iterative methods.\n",
    "\n",
    "def fibonacci(n):\n",
    "    sequence = [0, 1]\n",
    "    for _ in range(2, n):\n",
    "        sequence.append(sequence[-1] + sequence[-2])\n",
    "    return sequence[:n]\n",
    "\n",
    "# Example\n",
    "print(fibonacci(10)) \n"
   ]
  },
  {
   "cell_type": "code",
   "execution_count": 48,
   "id": "fe32a31d",
   "metadata": {},
   "outputs": [
    {
     "name": "stdout",
     "output_type": "stream",
     "text": [
      "55\n"
     ]
    }
   ],
   "source": [
    "#37. Develop a program that calculates the nth term of the Fibonacci sequence using memoization.\n",
    "\n",
    "memo = {0: 0, 1: 1}\n",
    "\n",
    "def fibonacci_memo(n):\n",
    "    if n not in memo:\n",
    "        memo[n] = fibonacci_memo(n - 1) + fibonacci_memo(n - 2)\n",
    "    return memo[n]\n",
    "\n",
    "# Example\n",
    "print(fibonacci_memo(10))\n"
   ]
  },
  {
   "cell_type": "code",
   "execution_count": 51,
   "id": "91378155",
   "metadata": {},
   "outputs": [
    {
     "name": "stdout",
     "output_type": "stream",
     "text": [
      "    October 2024\n",
      "Mo Tu We Th Fr Sa Su\n",
      "    1  2  3  4  5  6\n",
      " 7  8  9 10 11 12 13\n",
      "14 15 16 17 18 19 20\n",
      "21 22 23 24 25 26 27\n",
      "28 29 30 31\n",
      "\n"
     ]
    }
   ],
   "source": [
    "#38. Create a program that generates a calendar for a given month and year using conditional statements.\n",
    "\n",
    "import calendar\n",
    "\n",
    "def display_calendar(year, month):\n",
    "    print(calendar.month(year, month))\n",
    "\n",
    "# Example\n",
    "display_calendar(2024, 10)  "
   ]
  },
  {
   "cell_type": "code",
   "execution_count": 50,
   "id": "7f6046dc",
   "metadata": {},
   "outputs": [
    {
     "name": "stdout",
     "output_type": "stream",
     "text": [
      "Type 'y' to get another card, 'n' to pass: 3\n",
      "Your final hand: [9, 9], final score: 18. Computer's final hand: [7, 3, 10], final score: 20.\n"
     ]
    }
   ],
   "source": [
    "#39. Build a program that simulates a basic text-based blackjack game against the computer.\n",
    "\n",
    "import random\n",
    "\n",
    "def deal_card():\n",
    "    return random.choice([2, 3, 4, 5, 6, 7, 8, 9, 10, 10, 10, 10, 11])\n",
    "\n",
    "def blackjack():\n",
    "    user_hand = [deal_card(), deal_card()]\n",
    "    computer_hand = [deal_card(), deal_card()]\n",
    "\n",
    "    def calculate_score(hand):\n",
    "        score = sum(hand)\n",
    "        if score > 21 and 11 in hand:\n",
    "            hand.remove(11)\n",
    "            hand.append(1)\n",
    "        return sum(hand)\n",
    "    \n",
    "    user_score = calculate_score(user_hand)\n",
    "    computer_score = calculate_score(computer_hand)\n",
    "\n",
    "    if user_score == 21:\n",
    "        return \"Blackjack! You win!\"\n",
    "    while input(\"Type 'y' to get another card, 'n' to pass: \") == 'y':\n",
    "        user_hand.append(deal_card())\n",
    "        user_score = calculate_score(user_hand)\n",
    "        if user_score > 21:\n",
    "            return f\"You went over! Final hand: {user_hand}, score: {user_score}. You lose.\"\n",
    "\n",
    "    while computer_score < 17:\n",
    "        computer_hand.append(deal_card())\n",
    "        computer_score = calculate_score(computer_hand)\n",
    "\n",
    "    return f\"Your final hand: {user_hand}, final score: {user_score}. Computer's final hand: {computer_hand}, final score: {computer_score}.\"\n",
    "\n",
    "# Example\n",
    "print(blackjack())\n",
    "\n"
   ]
  },
  {
   "cell_type": "code",
   "execution_count": 52,
   "id": "f517270e",
   "metadata": {},
   "outputs": [
    {
     "name": "stdout",
     "output_type": "stream",
     "text": [
      "[2, 2, 2, 7]\n"
     ]
    }
   ],
   "source": [
    "#40. Write a program that generates the prime factors of a given number using trial division.\n",
    "\n",
    "def prime_factors(n):\n",
    "    factors = []\n",
    "    divisor = 2\n",
    "    while n >= 2:\n",
    "        if n % divisor == 0:\n",
    "            factors.append(divisor)\n",
    "            n //= divisor\n",
    "        else:\n",
    "            divisor += 1\n",
    "    return factors\n",
    "\n",
    "# Example\n",
    "print(prime_factors(56))  \n"
   ]
  }
 ],
 "metadata": {
  "kernelspec": {
   "display_name": "Python 3 (ipykernel)",
   "language": "python",
   "name": "python3"
  },
  "language_info": {
   "codemirror_mode": {
    "name": "ipython",
    "version": 3
   },
   "file_extension": ".py",
   "mimetype": "text/x-python",
   "name": "python",
   "nbconvert_exporter": "python",
   "pygments_lexer": "ipython3",
   "version": "3.8.10"
  }
 },
 "nbformat": 4,
 "nbformat_minor": 5
}
