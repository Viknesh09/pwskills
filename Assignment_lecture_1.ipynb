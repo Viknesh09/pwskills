{
 "cells": [
  {
   "cell_type": "code",
   "execution_count": 2,
   "id": "bceb0fcd",
   "metadata": {},
   "outputs": [
    {
     "name": "stdout",
     "output_type": "stream",
     "text": [
      "After swapping:\n",
      "x = 7\n",
      "y = 4\n"
     ]
    }
   ],
   "source": [
    "#1.Declare two variables,x and y, and assign them integer values.Swap the values of these variables without using any temporary variables \n",
    "x = 4\n",
    "y = 7\n",
    "\n",
    "x = x + y\n",
    "y = x - y\n",
    "x = x - y\n",
    "\n",
    "print(\"After swapping:\")\n",
    "print(\"x =\", x)\n",
    "print(\"y =\", y)\n"
   ]
  },
  {
   "cell_type": "code",
   "execution_count": 4,
   "id": "a6a29ac6",
   "metadata": {},
   "outputs": [
    {
     "name": "stdout",
     "output_type": "stream",
     "text": [
      "Enter the length of the rectangle: 2\n",
      "Enter the width of the rectangle: 4\n",
      "The area of the rectangle with length 2.0 and width 4.0 is: 8.0\n"
     ]
    }
   ],
   "source": [
    "#2.Create a program that calculates the area of rectangle.Take the length and width as inputs from the user and store  them in variables.Calculate and display the area\n",
    "# Input the length and width from the user\n",
    "l = float(input(\"Enter the length of the rectangle: \"))\n",
    "w = float(input(\"Enter the width of the rectangle: \"))\n",
    "\n",
    "# Calculate the area of the rectangle\n",
    "area = l * w\n",
    "\n",
    "# Display the result\n",
    "print(\"The area of the rectangle with length\", l, \"and width\", w, \"is:\", area)\n"
   ]
  },
  {
   "cell_type": "code",
   "execution_count": 5,
   "id": "918dbc37",
   "metadata": {},
   "outputs": [
    {
     "name": "stdout",
     "output_type": "stream",
     "text": [
      "Enter temperature in Celsius: 86\n",
      "86.0 degrees Celsius is equal to 186.8 degrees Fahrenheit.\n"
     ]
    }
   ],
   "source": [
    "#3.Write a python program that convert temperature  from celsius to fahrenheit.Take the temperature in celsius, and store it in a variable,convert it to fahrenheit,and display the result\n",
    "# Input temperature in Celsius from the user\n",
    "celsius = float(input(\"Enter temperature in Celsius: \"))\n",
    "\n",
    "# Convert Celsius to Fahrenheit\n",
    "fahrenheit = (celsius * 9/5) + 32\n",
    "\n",
    "# Display the result\n",
    "print(f\"{celsius} degrees Celsius is equal to {fahrenheit} degrees Fahrenheit.\")"
   ]
  },
  {
   "cell_type": "markdown",
   "id": "dee43821",
   "metadata": {},
   "source": [
    "String Assignment"
   ]
  },
  {
   "cell_type": "code",
   "execution_count": 3,
   "id": "45895ec1",
   "metadata": {},
   "outputs": [
    {
     "name": "stdout",
     "output_type": "stream",
     "text": [
      "Enter a string: man\n",
      "The length of the string is: 3\n"
     ]
    }
   ],
   "source": [
    "#1.Write a python program that takes a strings as a input and prints the length of the string.\n",
    "# Input a string from the user\n",
    "s = input(\"Enter a string: \")\n",
    "\n",
    "# Calculate and print the length of the string\n",
    "string_length = len(s)\n",
    "print(f\"The length of the string is: {string_length}\")"
   ]
  },
  {
   "cell_type": "code",
   "execution_count": 7,
   "id": "4cab7c8d",
   "metadata": {},
   "outputs": [
    {
     "name": "stdout",
     "output_type": "stream",
     "text": [
      "Enter a sentence: wild\n",
      "The number of vowels in the sentence is: 1\n"
     ]
    }
   ],
   "source": [
    "#2.Create a program that takes a sentence from the user and counts the number of vowels(a,e,i,o,u) in the string\n",
    "# Input a sentence from the user\n",
    "a = input(\"Enter a sentence: \")\n",
    "\n",
    "# Initialize variables to count vowels\n",
    "vowel_count = 0\n",
    "\n",
    "# Iterate through the characters in the sentence and count vowels\n",
    "for char in a:\n",
    "    if char.lower() in \"aeiou\":\n",
    "        vowel_count += 1\n",
    "\n",
    "# Display the count of vowels\n",
    "print(f\"The number of vowels in the sentence is: {vowel_count}\")\n"
   ]
  },
  {
   "cell_type": "code",
   "execution_count": 9,
   "id": "352b0839",
   "metadata": {},
   "outputs": [
    {
     "name": "stdout",
     "output_type": "stream",
     "text": [
      "Enter a string: lakme\n",
      "Reversed string: emkal\n"
     ]
    }
   ],
   "source": [
    "#3.Given a string,reverse the order of characters using string slicing and print the reversed string\n",
    "# Input a string from the user\n",
    "l = input(\"Enter a string: \")\n",
    "\n",
    "# Reverse the string using string slicing\n",
    "reversed_string = l[::-1]\n",
    "\n",
    "# Print the reversed string\n",
    "print(\"Reversed string:\", reversed_string)\n"
   ]
  },
  {
   "cell_type": "code",
   "execution_count": 14,
   "id": "84bc208d",
   "metadata": {},
   "outputs": [
    {
     "name": "stdout",
     "output_type": "stream",
     "text": [
      "Enter a string: madam\n",
      "The input string is a palindrome.\n"
     ]
    }
   ],
   "source": [
    "#4.write a program that takes a string as input and checks if it is a palindrome(reads the same forward and backwards)\n",
    "# Input a string from the user\n",
    "i = input(\"Enter a string: \")\n",
    "\n",
    "# Remove spaces and convert the string to lowercase\n",
    "i = i.replace(\" \", \"\").lower()\n",
    "\n",
    "# Check if the string is a palindrome\n",
    "if i == i[::-1]:\n",
    "    print(\"The input string is a palindrome.\")\n",
    "else:\n",
    "    print(\"The input string is not a palindrome.\")"
   ]
  },
  {
   "cell_type": "code",
   "execution_count": 16,
   "id": "cb56db61",
   "metadata": {},
   "outputs": [
    {
     "name": "stdout",
     "output_type": "stream",
     "text": [
      "Enter a string: l k m\n",
      "Modified string without spaces: lkm\n"
     ]
    }
   ],
   "source": [
    "#5.Create a program that takes a string as input and removes all the spaces from it.Print the modified string without spaces.\n",
    "# Input a string from the user\n",
    "input_string = input(\"Enter a string: \")\n",
    "\n",
    "# Remove spaces from the string\n",
    "string_without_spaces = input_string.replace(\" \", \"\")\n",
    "\n",
    "# Print the modified string without spaces\n",
    "print(\"Modified string without spaces:\", string_without_spaces)"
   ]
  },
  {
   "cell_type": "code",
   "execution_count": null,
   "id": "b46ad4ef",
   "metadata": {},
   "outputs": [],
   "source": []
  }
 ],
 "metadata": {
  "kernelspec": {
   "display_name": "Python 3 (ipykernel)",
   "language": "python",
   "name": "python3"
  },
  "language_info": {
   "codemirror_mode": {
    "name": "ipython",
    "version": 3
   },
   "file_extension": ".py",
   "mimetype": "text/x-python",
   "name": "python",
   "nbconvert_exporter": "python",
   "pygments_lexer": "ipython3",
   "version": "3.10.9"
  }
 },
 "nbformat": 4,
 "nbformat_minor": 5
}
